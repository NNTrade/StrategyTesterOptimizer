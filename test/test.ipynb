{
 "cells": [
  {
   "cell_type": "code",
   "execution_count": 2,
   "metadata": {},
   "outputs": [],
   "source": [
    "import os\n",
    "import json"
   ]
  },
  {
   "cell_type": "code",
   "execution_count": 3,
   "metadata": {},
   "outputs": [
    {
     "data": {
      "text/plain": [
       "[3, 5, 7, 9]"
      ]
     },
     "execution_count": 3,
     "metadata": {},
     "output_type": "execute_result"
    }
   ],
   "source": [
    "arr = [1,3,5,7,9,11]\n",
    "arr[1:5]"
   ]
  },
  {
   "cell_type": "code",
   "execution_count": 1,
   "metadata": {},
   "outputs": [],
   "source": [
    "from src.models.deal import Deal,datetime"
   ]
  },
  {
   "cell_type": "code",
   "execution_count": 5,
   "metadata": {},
   "outputs": [
    {
     "data": {
      "text/plain": [
       "{'open_date': datetime.datetime(2024, 2, 23, 0, 0), 'open_price': 0.17, 'amount': 1, 'asset': 'A', 'opened_capital': 0.17, 'close_date': datetime.datetime(2024, 2, 24, 0, 0), 'lenght_in_days': datetime.timedelta(days=1), 'last_price': 0.196, 'commission_open': 0, 'commission_holding': 0, 'commission_close': 0, 'is_closed': 1, 'price_log': {datetime.datetime(2024, 2, 23, 0, 0): 0.17, datetime.datetime(2024, 2, 24, 0, 0): 0.196}}"
      ]
     },
     "execution_count": 5,
     "metadata": {},
     "output_type": "execute_result"
    }
   ],
   "source": [
    "deal = Deal(datetime(2024,2,23),0.17,1,\"A\",0.17)\n",
    "deal.close_deal(datetime(2024,2,24),0.196)"
   ]
  },
  {
   "cell_type": "code",
   "execution_count": 6,
   "metadata": {},
   "outputs": [
    {
     "data": {
      "text/plain": [
       "0.1529411764705882"
      ]
     },
     "execution_count": 6,
     "metadata": {},
     "output_type": "execute_result"
    }
   ],
   "source": [
    "deal.interest_to_account"
   ]
  },
  {
   "cell_type": "code",
   "execution_count": 11,
   "metadata": {},
   "outputs": [
    {
     "name": "stdout",
     "output_type": "stream",
     "text": [
      "36275193859486792024064.0\n"
     ]
    }
   ],
   "source": [
    "print(f\"{deal.interest_to_account_per_year:.1f}\")"
   ]
  },
  {
   "cell_type": "code",
   "execution_count": 14,
   "metadata": {},
   "outputs": [
    {
     "name": "stdout",
     "output_type": "stream",
     "text": [
      "13001904105245580.0\n"
     ]
    }
   ],
   "source": [
    "print(f\"{pow(deal.interest_to_account+1,365/7*5)-1:.1f}\")"
   ]
  }
 ],
 "metadata": {
  "kernelspec": {
   "display_name": "Python 3",
   "language": "python",
   "name": "python3"
  },
  "language_info": {
   "codemirror_mode": {
    "name": "ipython",
    "version": 3
   },
   "file_extension": ".py",
   "mimetype": "text/x-python",
   "name": "python",
   "nbconvert_exporter": "python",
   "pygments_lexer": "ipython3",
   "version": "3.12.2"
  }
 },
 "nbformat": 4,
 "nbformat_minor": 2
}
