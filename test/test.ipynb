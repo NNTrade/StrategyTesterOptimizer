{
 "cells": [
  {
   "cell_type": "code",
   "execution_count": 2,
   "metadata": {},
   "outputs": [],
   "source": [
    "import os\n",
    "import json"
   ]
  },
  {
   "cell_type": "code",
   "execution_count": 3,
   "metadata": {},
   "outputs": [
    {
     "data": {
      "text/plain": [
       "['optimization_analyzer',\n",
       " 'common',\n",
       " 'optimization',\n",
       " 'test.ipynb',\n",
       " '__pycache__',\n",
       " '__init__.py',\n",
       " 'simulation']"
      ]
     },
     "execution_count": 3,
     "metadata": {},
     "output_type": "execute_result"
    }
   ],
   "source": [
    "os.listdir(\"./test\")"
   ]
  },
  {
   "cell_type": "code",
   "execution_count": 3,
   "metadata": {},
   "outputs": [],
   "source": [
    "def json_to_unique_folder(json_data):\n",
    "    # Parse the JSON data\n",
    "    data = json.loads(json_data)\n",
    "    \n",
    "    # Sort the keys alphabetically\n",
    "    sorted_keys = sorted(data.keys())\n",
    "    \n",
    "    # Construct the folder path based on the sorted keys\n",
    "    folder_path_parts = []\n",
    "    for key in sorted_keys:\n",
    "        value = data[key]\n",
    "        if isinstance(value, dict):\n",
    "            # If the value is a dictionary, recursively add its path parts\n",
    "            sub_folder_path = json_to_unique_folder(json.dumps(value))\n",
    "            folder_path_parts.append(key)\n",
    "            folder_path_parts.extend(sub_folder_path.split(os.path.sep))\n",
    "        else:\n",
    "            # If the value is not a dictionary, add the key and value as path parts\n",
    "            folder_path_parts.extend([key, str(value)])\n",
    "    \n",
    "    folder_path = os.path.join(*folder_path_parts)\n",
    "    \n",
    "    return folder_path"
   ]
  },
  {
   "cell_type": "code",
   "execution_count": 4,
   "metadata": {},
   "outputs": [],
   "source": [
    "from src.common.candle_data_set_config import CandleDataSetConfig\n",
    "from src.common.date_period import DatePeriod,date\n",
    "from src.simulation.config import SimulationConfig, StrategyConfig, StrategyId, CandleConfig, TimeFrame"
   ]
  },
  {
   "cell_type": "code",
   "execution_count": 5,
   "metadata": {},
   "outputs": [],
   "source": [
    "s1 = CandleConfig(\"A\", TimeFrame.D)\n",
    "s2 = CandleConfig(\"B\", TimeFrame.D)\n",
    "c_ds_cfg = CandleDataSetConfig.BuildFromDict({\"A\":s1, \"B\":s2}, TimeFrame.D)\n",
    "dp = DatePeriod(date(2020, 1, 1), date(2021, 1, 1))        \n",
    "expected_cfg = SimulationConfig(c_ds_cfg, dp, StrategyConfig({\"p1\": 1, \"p2\": 2.2, \"p3\":\"1q2w3e\"}))"
   ]
  },
  {
   "cell_type": "code",
   "execution_count": 6,
   "metadata": {},
   "outputs": [
    {
     "data": {
      "text/plain": [
       "'{\"stocks\": {\"A\": {\"ticker\": \"A\", \"timeframe\": \"D\"}, \"B\": {\"ticker\": \"B\", \"timeframe\": \"D\"}}, \"step_timeframe\": \"D\"}'"
      ]
     },
     "execution_count": 6,
     "metadata": {},
     "output_type": "execute_result"
    }
   ],
   "source": [
    "c_ds_cfg.to_json()"
   ]
  },
  {
   "cell_type": "code",
   "execution_count": 7,
   "metadata": {},
   "outputs": [
    {
     "data": {
      "text/plain": [
       "'{\"candle_data_set\": {\"stocks\": {\"A\": {\"ticker\": \"A\", \"timeframe\": \"D\"}, \"B\": {\"ticker\": \"B\", \"timeframe\": \"D\"}}, \"step_timeframe\": \"D\"}, \"period\": {\"from\": \"2020-01-01\", \"untill\": \"2021-01-01\"}, \"strategy_cfg\": {\"p1\": 1, \"p2\": 2.2, \"p3\": \"1q2w3e\"}}'"
      ]
     },
     "execution_count": 7,
     "metadata": {},
     "output_type": "execute_result"
    }
   ],
   "source": [
    "expected_cfg.to_json()"
   ]
  },
  {
   "cell_type": "code",
   "execution_count": 10,
   "metadata": {},
   "outputs": [
    {
     "name": "stdout",
     "output_type": "stream",
     "text": [
      "JSON data saved to: data.json\n"
     ]
    }
   ],
   "source": [
    "# File path to save the JSON data\n",
    "from matplotlib.font_manager import json_load\n",
    "\n",
    "\n",
    "file_path = \"data.json\"\n",
    "\n",
    "# Save JSON data to file\n",
    "with open(file_path, \"w\") as json_file:\n",
    "    json_file.write(expected_cfg.to_json())\n",
    "\n",
    "print(\"JSON data saved to:\", file_path)"
   ]
  }
 ],
 "metadata": {
  "kernelspec": {
   "display_name": "Python 3",
   "language": "python",
   "name": "python3"
  },
  "language_info": {
   "codemirror_mode": {
    "name": "ipython",
    "version": 3
   },
   "file_extension": ".py",
   "mimetype": "text/x-python",
   "name": "python",
   "nbconvert_exporter": "python",
   "pygments_lexer": "ipython3",
   "version": "3.12.2"
  }
 },
 "nbformat": 4,
 "nbformat_minor": 2
}
