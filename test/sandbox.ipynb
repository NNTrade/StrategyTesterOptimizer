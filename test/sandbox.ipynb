{
 "cells": [
  {
   "cell_type": "code",
   "execution_count": 1,
   "metadata": {},
   "outputs": [],
   "source": [
    "from typing import Tuple"
   ]
  },
  {
   "cell_type": "code",
   "execution_count": 3,
   "metadata": {},
   "outputs": [
    {
     "data": {
      "text/plain": [
       "(1, 2)"
      ]
     },
     "execution_count": 3,
     "metadata": {},
     "output_type": "execute_result"
    }
   ],
   "source": [
    "test_tuple = (1,2)\n",
    "test_tuple"
   ]
  },
  {
   "cell_type": "code",
   "execution_count": 4,
   "metadata": {},
   "outputs": [
    {
     "ename": "TypeError",
     "evalue": "'tuple' object does not support item assignment",
     "output_type": "error",
     "traceback": [
      "\u001b[0;31m---------------------------------------------------------------------------\u001b[0m",
      "\u001b[0;31mTypeError\u001b[0m                                 Traceback (most recent call last)",
      "\u001b[1;32m/workspaces/StrategyTesterOptimizer/test/sandbox.ipynb Cell 3\u001b[0m line \u001b[0;36m1\n\u001b[0;32m----> <a href='vscode-notebook-cell://dev-container%2B7b22686f737450617468223a222f686f6d652f696e736f6e75736b2f4d7950726f6772616d732f4e4e54726164652f53747261746567795465737465724f7074696d697a6572222c226c6f63616c446f636b6572223a66616c73652c2273657474696e6773223a7b22686f7374223a227373683a2f2f41697572227d2c22636f6e66696746696c65223a7b22246d6964223a312c2270617468223a222f686f6d652f696e736f6e75736b2f4d7950726f6772616d732f4e4e54726164652f53747261746567795465737465724f7074696d697a65722f2e646576636f6e7461696e65722f646576636f6e7461696e65722e6a736f6e222c22736368656d65223a227673636f64652d66696c65486f7374227d7d/workspaces/StrategyTesterOptimizer/test/sandbox.ipynb#W2sdnNjb2RlLXJlbW90ZQ%3D%3D?line=0'>1</a>\u001b[0m test_tuple[\u001b[39m0\u001b[39;49m]\u001b[39m=\u001b[39m \u001b[39m9\u001b[39m\n\u001b[1;32m      <a href='vscode-notebook-cell://dev-container%2B7b22686f737450617468223a222f686f6d652f696e736f6e75736b2f4d7950726f6772616d732f4e4e54726164652f53747261746567795465737465724f7074696d697a6572222c226c6f63616c446f636b6572223a66616c73652c2273657474696e6773223a7b22686f7374223a227373683a2f2f41697572227d2c22636f6e66696746696c65223a7b22246d6964223a312c2270617468223a222f686f6d652f696e736f6e75736b2f4d7950726f6772616d732f4e4e54726164652f53747261746567795465737465724f7074696d697a65722f2e646576636f6e7461696e65722f646576636f6e7461696e65722e6a736f6e222c22736368656d65223a227673636f64652d66696c65486f7374227d7d/workspaces/StrategyTesterOptimizer/test/sandbox.ipynb#W2sdnNjb2RlLXJlbW90ZQ%3D%3D?line=1'>2</a>\u001b[0m test_tuple\n",
      "\u001b[0;31mTypeError\u001b[0m: 'tuple' object does not support item assignment"
     ]
    }
   ],
   "source": [
    "test_tuple[0]= 9\n",
    "test_tuple"
   ]
  },
  {
   "cell_type": "code",
   "execution_count": 6,
   "metadata": {},
   "outputs": [
    {
     "data": {
      "text/plain": [
       "{datetime.datetime(2023, 9, 1, 0, 0): 10.5,\n",
       " datetime.datetime(2023, 9, 2, 0, 0): 12.7,\n",
       " datetime.datetime(2023, 9, 3, 0, 0): 15.2}"
      ]
     },
     "execution_count": 6,
     "metadata": {},
     "output_type": "execute_result"
    }
   ],
   "source": [
    "from datetime import datetime\n",
    "\n",
    "# Your original dictionary\n",
    "original_dict = {\n",
    "    datetime(2023, 9, 1): 10.5,\n",
    "    datetime(2023, 9, 3): 15.2,\n",
    "    datetime(2023, 9, 2): 12.7,\n",
    "}\n",
    "\n",
    "# Convert the dictionary to a sorted list of tuples\n",
    "sorted_list = sorted(original_dict.items())\n",
    "\n",
    "# Create a new dictionary from the sorted list\n",
    "sorted_dict = dict(sorted_list)\n",
    "\n",
    "# Now you can access elements using datetime keys\n",
    "\n",
    "sorted_dict\n"
   ]
  },
  {
   "cell_type": "code",
   "execution_count": 8,
   "metadata": {},
   "outputs": [
    {
     "data": {
      "text/plain": [
       "(datetime.datetime(2023, 9, 1, 0, 0), 10.5)"
      ]
     },
     "execution_count": 8,
     "metadata": {},
     "output_type": "execute_result"
    }
   ],
   "source": [
    "list(sorted_dict.items())[0]"
   ]
  },
  {
   "cell_type": "code",
   "execution_count": 17,
   "metadata": {},
   "outputs": [
    {
     "name": "stdout",
     "output_type": "stream",
     "text": [
      "2023-09-01 00:00:00- 2023-09-04 00:00:00\n",
      "2023-09-04 00:00:00- 2023-09-07 00:00:00\n",
      "2023-09-07 00:00:00- 2023-09-11 00:00:00\n"
     ]
    }
   ],
   "source": [
    "from datetime import datetime,timedelta\n",
    "from_dt = datetime(2023, 9, 1)\n",
    "untill_dt =  datetime(2023, 9, 11)\n",
    "cc = 3\n",
    "ts = untill_dt - from_dt\n",
    "step_ts = timedelta(days=int(ts.days/cc))\n",
    "cur_dt = from_dt\n",
    "for i in range(cc-1):\n",
    "  new_untill = cur_dt + step_ts\n",
    "  if new_untill > untill_dt:\n",
    "    new_untill = untill_dt\n",
    "  print(f\"{cur_dt}- {new_untill}\")\n",
    "  cur_dt = new_untill\n",
    "print(f\"{cur_dt}- {untill_dt}\")"
   ]
  },
  {
   "cell_type": "code",
   "execution_count": 1,
   "metadata": {},
   "outputs": [],
   "source": [
    "import src.strategy.run_config as cfg"
   ]
  },
  {
   "cell_type": "code",
   "execution_count": 2,
   "metadata": {},
   "outputs": [],
   "source": [
    "str_set = cfg.StrategyConfigSet.Builder().add_set(\"A\", [1,2]).add_set(\n",
    "          \"B\", [4]).build()\n",
    "expected_record1 = cfg.StrategyConfig({\"A\":1, \"B\":4})\n",
    "expected_record2 = cfg.StrategyConfig({\"A\":2, \"B\":4})"
   ]
  },
  {
   "cell_type": "code",
   "execution_count": 3,
   "metadata": {},
   "outputs": [
    {
     "data": {
      "text/plain": [
       "<src.strategy.run_config.strategy_config.StrategyConfig at 0x7f5e47a35b90>"
      ]
     },
     "execution_count": 3,
     "metadata": {},
     "output_type": "execute_result"
    }
   ],
   "source": [
    "str_set.as_records()[0]"
   ]
  },
  {
   "cell_type": "code",
   "execution_count": 4,
   "metadata": {},
   "outputs": [
    {
     "data": {
      "text/plain": [
       "8094212078855480490"
      ]
     },
     "execution_count": 4,
     "metadata": {},
     "output_type": "execute_result"
    }
   ],
   "source": [
    "hash(str_set.as_records()[0])"
   ]
  },
  {
   "cell_type": "code",
   "execution_count": 11,
   "metadata": {},
   "outputs": [
    {
     "name": "stdout",
     "output_type": "stream",
     "text": [
      "v1:2, v2:4v1:1, v2:2v1:3, v2:6\n",
      "\n",
      "\n"
     ]
    },
    {
     "data": {
      "text/plain": [
       "[]"
      ]
     },
     "execution_count": 11,
     "metadata": {},
     "output_type": "execute_result"
    }
   ],
   "source": [
    "import concurrent.futures\n",
    "\n",
    "arr = [1,2,3]\n",
    "arr_tpl = [(v,v*2) for v in arr]\n",
    "\n",
    "result = []\n",
    "\n",
    "def do(v_tpl):\n",
    "  v1 = v_tpl[0]\n",
    "  v2 = v_tpl[1]\n",
    "  result.append(v1)\n",
    "  print(f\"v1:{v1}, v2:{v2}\")\n",
    "\n",
    "\n",
    "with concurrent.futures.ProcessPoolExecutor(max_workers=5) as executor:\n",
    "  # Map the do function to the list of tasks\n",
    "  executor.map(do, arr_tpl)\n",
    "result"
   ]
  },
  {
   "cell_type": "code",
   "execution_count": 19,
   "metadata": {},
   "outputs": [
    {
     "ename": "IndentationError",
     "evalue": "expected an indented block after class definition on line 4 (761719347.py, line 5)",
     "output_type": "error",
     "traceback": [
      "\u001b[0;36m  Cell \u001b[0;32mIn[19], line 5\u001b[0;36m\u001b[0m\n\u001b[0;31m    def process_rep(tpl):\u001b[0m\n\u001b[0m    ^\u001b[0m\n\u001b[0;31mIndentationError\u001b[0m\u001b[0;31m:\u001b[0m expected an indented block after class definition on line 4\n"
     ]
    }
   ],
   "source": [
    "import concurrent.futures\n",
    "\n",
    "result = []\n",
    "\n",
    "def process_rep(tpl):\n",
    "    v1 = tpl[0]\n",
    "    v2 = tpl[1]\n",
    "    print(f\"v1:{v1}, v2:{v2}\\n\")\n",
    "    return v1 * v2\n",
    "\n",
    "# Assuming rep_list is your list of tasks\n",
    "rep_list =  [(v,v*2) for v in [1,2,3,4]]\n",
    "\n",
    "with concurrent.futures.ProcessPoolExecutor() as executor:\n",
    "    new_result = list(executor.map(process_rep, rep_list))\n",
    "result.extend(new_result)\n",
    "print(rep_list)\n",
    "result"
   ]
  },
  {
   "cell_type": "code",
   "execution_count": 1,
   "metadata": {},
   "outputs": [
    {
     "name": "stdout",
     "output_type": "stream",
     "text": [
      "v:1\n",
      "\n"
     ]
    },
    {
     "name": "stdout",
     "output_type": "stream",
     "text": [
      "v:1 last_v:1\n",
      "\n",
      "v:2\n",
      "\n",
      "v:2 last_v:2\n",
      "\n",
      "v:3\n",
      "\n",
      "v:3 last_v:3\n",
      "\n",
      "v:4\n",
      "\n",
      "v:4 last_v:4\n",
      "\n",
      "v:5\n",
      "\n",
      "v:5 last_v:5\n",
      "\n",
      "v:6\n",
      "\n",
      "v:6 last_v:6\n",
      "\n"
     ]
    },
    {
     "data": {
      "text/plain": [
       "[1, 4, 9, 16, 25, 36]"
      ]
     },
     "execution_count": 1,
     "metadata": {},
     "output_type": "execute_result"
    }
   ],
   "source": [
    "from ast import arg\n",
    "import concurrent.futures\n",
    "from concurrent.futures import thread\n",
    "import multiprocessing\n",
    "import time\n",
    "class Worker:\n",
    "    def __init__(self,lock, lock2) -> None:\n",
    "        self.last_v = -1\n",
    "        self.lock = lock\n",
    "        self.lock2 = lock2\n",
    "        pass\n",
    "    def do(self, v):      \n",
    "      self.last_v = v\n",
    "      with self.lock:\n",
    "        with self.lock2:\n",
    "          print(f\"v:{v}\\n\")\n",
    "          time.sleep(v)      \n",
    "          print(f\"v:{v} last_v:{self.last_v}\\n\")\n",
    "          return v * self.last_v\n",
    "      \n",
    "m = multiprocessing.Manager()\n",
    "lock = m.Lock()\n",
    "lock2 = m.Lock()\n",
    "\n",
    "input_arr = [1,2,3,4,5,6]\n",
    "result = []\n",
    "worker = Worker(lock,lock2)\n",
    "with concurrent.futures.ProcessPoolExecutor(max_workers=3) as executor:\n",
    "    new_result = list(executor.map(worker.do, input_arr))\n",
    "result.extend(new_result)\n",
    "result"
   ]
  },
  {
   "cell_type": "code",
   "execution_count": 2,
   "metadata": {},
   "outputs": [
    {
     "name": "stdout",
     "output_type": "stream",
     "text": [
      "v:1\n",
      "\n",
      "v:1 last_v:1\n",
      "\n",
      "v:2\n",
      "\n",
      "v:2 last_v:2\n",
      "\n",
      "v:3\n",
      "\n",
      "v:3 last_v:3\n",
      "\n",
      "v:4\n",
      "\n",
      "v:4 last_v:4\n",
      "\n",
      "v:5\n",
      "\n",
      "v:5 last_v:5\n",
      "\n",
      "v:6\n",
      "\n",
      "v:6 last_v:6\n",
      "\n"
     ]
    },
    {
     "ename": "KeyboardInterrupt",
     "evalue": "",
     "output_type": "error",
     "traceback": [
      "\u001b[0;31m---------------------------------------------------------------------------\u001b[0m",
      "\u001b[0;31mKeyboardInterrupt\u001b[0m                         Traceback (most recent call last)",
      "\u001b[1;32m/workspaces/StrategyTesterOptimizer/test/sandbox.ipynb Cell 14\u001b[0m line \u001b[0;36m2\n\u001b[1;32m     <a href='vscode-notebook-cell://dev-container%2B7b22686f737450617468223a222f686f6d652f696e736f6e75736b2f4d7950726f6772616d732f4e4e54726164652f53747261746567795465737465724f7074696d697a6572222c226c6f63616c446f636b6572223a66616c73652c2273657474696e6773223a7b22686f7374223a227373683a2f2f41697572227d2c22636f6e66696746696c65223a7b22246d6964223a312c2270617468223a222f686f6d652f696e736f6e75736b2f4d7950726f6772616d732f4e4e54726164652f53747261746567795465737465724f7074696d697a65722f2e646576636f6e7461696e65722f646576636f6e7461696e65722e6a736f6e222c22736368656d65223a227673636f64652d66696c65486f7374227d7d/workspaces/StrategyTesterOptimizer/test/sandbox.ipynb#X22sdnNjb2RlLXJlbW90ZQ%3D%3D?line=22'>23</a>\u001b[0m worker \u001b[39m=\u001b[39m Worker()\n\u001b[1;32m     <a href='vscode-notebook-cell://dev-container%2B7b22686f737450617468223a222f686f6d652f696e736f6e75736b2f4d7950726f6772616d732f4e4e54726164652f53747261746567795465737465724f7074696d697a6572222c226c6f63616c446f636b6572223a66616c73652c2273657474696e6773223a7b22686f7374223a227373683a2f2f41697572227d2c22636f6e66696746696c65223a7b22246d6964223a312c2270617468223a222f686f6d652f696e736f6e75736b2f4d7950726f6772616d732f4e4e54726164652f53747261746567795465737465724f7074696d697a65722f2e646576636f6e7461696e65722f646576636f6e7461696e65722e6a736f6e222c22736368656d65223a227673636f64652d66696c65486f7374227d7d/workspaces/StrategyTesterOptimizer/test/sandbox.ipynb#X22sdnNjb2RlLXJlbW90ZQ%3D%3D?line=23'>24</a>\u001b[0m \u001b[39mwith\u001b[39;00m concurrent\u001b[39m.\u001b[39mfutures\u001b[39m.\u001b[39mProcessPoolExecutor(max_workers\u001b[39m=\u001b[39m\u001b[39m3\u001b[39m) \u001b[39mas\u001b[39;00m executor:\n\u001b[0;32m---> <a href='vscode-notebook-cell://dev-container%2B7b22686f737450617468223a222f686f6d652f696e736f6e75736b2f4d7950726f6772616d732f4e4e54726164652f53747261746567795465737465724f7074696d697a6572222c226c6f63616c446f636b6572223a66616c73652c2273657474696e6773223a7b22686f7374223a227373683a2f2f41697572227d2c22636f6e66696746696c65223a7b22246d6964223a312c2270617468223a222f686f6d652f696e736f6e75736b2f4d7950726f6772616d732f4e4e54726164652f53747261746567795465737465724f7074696d697a65722f2e646576636f6e7461696e65722f646576636f6e7461696e65722e6a736f6e222c22736368656d65223a227673636f64652d66696c65486f7374227d7d/workspaces/StrategyTesterOptimizer/test/sandbox.ipynb#X22sdnNjb2RlLXJlbW90ZQ%3D%3D?line=24'>25</a>\u001b[0m     new_result \u001b[39m=\u001b[39m \u001b[39mlist\u001b[39;49m(executor\u001b[39m.\u001b[39;49mmap(worker\u001b[39m.\u001b[39;49mdo, input_arr))\n\u001b[1;32m     <a href='vscode-notebook-cell://dev-container%2B7b22686f737450617468223a222f686f6d652f696e736f6e75736b2f4d7950726f6772616d732f4e4e54726164652f53747261746567795465737465724f7074696d697a6572222c226c6f63616c446f636b6572223a66616c73652c2273657474696e6773223a7b22686f7374223a227373683a2f2f41697572227d2c22636f6e66696746696c65223a7b22246d6964223a312c2270617468223a222f686f6d652f696e736f6e75736b2f4d7950726f6772616d732f4e4e54726164652f53747261746567795465737465724f7074696d697a65722f2e646576636f6e7461696e65722f646576636f6e7461696e65722e6a736f6e222c22736368656d65223a227673636f64652d66696c65486f7374227d7d/workspaces/StrategyTesterOptimizer/test/sandbox.ipynb#X22sdnNjb2RlLXJlbW90ZQ%3D%3D?line=25'>26</a>\u001b[0m result\u001b[39m.\u001b[39mextend(new_result)\n\u001b[1;32m     <a href='vscode-notebook-cell://dev-container%2B7b22686f737450617468223a222f686f6d652f696e736f6e75736b2f4d7950726f6772616d732f4e4e54726164652f53747261746567795465737465724f7074696d697a6572222c226c6f63616c446f636b6572223a66616c73652c2273657474696e6773223a7b22686f7374223a227373683a2f2f41697572227d2c22636f6e66696746696c65223a7b22246d6964223a312c2270617468223a222f686f6d652f696e736f6e75736b2f4d7950726f6772616d732f4e4e54726164652f53747261746567795465737465724f7074696d697a65722f2e646576636f6e7461696e65722f646576636f6e7461696e65722e6a736f6e222c22736368656d65223a227673636f64652d66696c65486f7374227d7d/workspaces/StrategyTesterOptimizer/test/sandbox.ipynb#X22sdnNjb2RlLXJlbW90ZQ%3D%3D?line=26'>27</a>\u001b[0m result\n",
      "File \u001b[0;32m/usr/local/lib/python3.11/concurrent/futures/process.py:597\u001b[0m, in \u001b[0;36m_chain_from_iterable_of_lists\u001b[0;34m(iterable)\u001b[0m\n\u001b[1;32m    591\u001b[0m \u001b[39mdef\u001b[39;00m \u001b[39m_chain_from_iterable_of_lists\u001b[39m(iterable):\n\u001b[1;32m    592\u001b[0m \u001b[39m    \u001b[39m\u001b[39m\"\"\"\u001b[39;00m\n\u001b[1;32m    593\u001b[0m \u001b[39m    Specialized implementation of itertools.chain.from_iterable.\u001b[39;00m\n\u001b[1;32m    594\u001b[0m \u001b[39m    Each item in *iterable* should be a list.  This function is\u001b[39;00m\n\u001b[1;32m    595\u001b[0m \u001b[39m    careful not to keep references to yielded objects.\u001b[39;00m\n\u001b[1;32m    596\u001b[0m \u001b[39m    \"\"\"\u001b[39;00m\n\u001b[0;32m--> 597\u001b[0m     \u001b[39mfor\u001b[39;49;00m element \u001b[39min\u001b[39;49;00m iterable:\n\u001b[1;32m    598\u001b[0m         element\u001b[39m.\u001b[39;49mreverse()\n\u001b[1;32m    599\u001b[0m         \u001b[39mwhile\u001b[39;49;00m element:\n",
      "File \u001b[0;32m/usr/local/lib/python3.11/concurrent/futures/_base.py:619\u001b[0m, in \u001b[0;36mExecutor.map.<locals>.result_iterator\u001b[0;34m()\u001b[0m\n\u001b[1;32m    616\u001b[0m \u001b[39mwhile\u001b[39;00m fs:\n\u001b[1;32m    617\u001b[0m     \u001b[39m# Careful not to keep a reference to the popped future\u001b[39;00m\n\u001b[1;32m    618\u001b[0m     \u001b[39mif\u001b[39;00m timeout \u001b[39mis\u001b[39;00m \u001b[39mNone\u001b[39;00m:\n\u001b[0;32m--> 619\u001b[0m         \u001b[39myield\u001b[39;00m _result_or_cancel(fs\u001b[39m.\u001b[39;49mpop())\n\u001b[1;32m    620\u001b[0m     \u001b[39melse\u001b[39;00m:\n\u001b[1;32m    621\u001b[0m         \u001b[39myield\u001b[39;00m _result_or_cancel(fs\u001b[39m.\u001b[39mpop(), end_time \u001b[39m-\u001b[39m time\u001b[39m.\u001b[39mmonotonic())\n",
      "File \u001b[0;32m/usr/local/lib/python3.11/concurrent/futures/_base.py:317\u001b[0m, in \u001b[0;36m_result_or_cancel\u001b[0;34m(***failed resolving arguments***)\u001b[0m\n\u001b[1;32m    315\u001b[0m \u001b[39mtry\u001b[39;00m:\n\u001b[1;32m    316\u001b[0m     \u001b[39mtry\u001b[39;00m:\n\u001b[0;32m--> 317\u001b[0m         \u001b[39mreturn\u001b[39;00m fut\u001b[39m.\u001b[39;49mresult(timeout)\n\u001b[1;32m    318\u001b[0m     \u001b[39mfinally\u001b[39;00m:\n\u001b[1;32m    319\u001b[0m         fut\u001b[39m.\u001b[39mcancel()\n",
      "File \u001b[0;32m/usr/local/lib/python3.11/concurrent/futures/_base.py:451\u001b[0m, in \u001b[0;36mFuture.result\u001b[0;34m(self, timeout)\u001b[0m\n\u001b[1;32m    448\u001b[0m \u001b[39melif\u001b[39;00m \u001b[39mself\u001b[39m\u001b[39m.\u001b[39m_state \u001b[39m==\u001b[39m FINISHED:\n\u001b[1;32m    449\u001b[0m     \u001b[39mreturn\u001b[39;00m \u001b[39mself\u001b[39m\u001b[39m.\u001b[39m__get_result()\n\u001b[0;32m--> 451\u001b[0m \u001b[39mself\u001b[39;49m\u001b[39m.\u001b[39;49m_condition\u001b[39m.\u001b[39;49mwait(timeout)\n\u001b[1;32m    453\u001b[0m \u001b[39mif\u001b[39;00m \u001b[39mself\u001b[39m\u001b[39m.\u001b[39m_state \u001b[39min\u001b[39;00m [CANCELLED, CANCELLED_AND_NOTIFIED]:\n\u001b[1;32m    454\u001b[0m     \u001b[39mraise\u001b[39;00m CancelledError()\n",
      "File \u001b[0;32m/usr/local/lib/python3.11/threading.py:320\u001b[0m, in \u001b[0;36mCondition.wait\u001b[0;34m(self, timeout)\u001b[0m\n\u001b[1;32m    318\u001b[0m \u001b[39mtry\u001b[39;00m:    \u001b[39m# restore state no matter what (e.g., KeyboardInterrupt)\u001b[39;00m\n\u001b[1;32m    319\u001b[0m     \u001b[39mif\u001b[39;00m timeout \u001b[39mis\u001b[39;00m \u001b[39mNone\u001b[39;00m:\n\u001b[0;32m--> 320\u001b[0m         waiter\u001b[39m.\u001b[39;49macquire()\n\u001b[1;32m    321\u001b[0m         gotit \u001b[39m=\u001b[39m \u001b[39mTrue\u001b[39;00m\n\u001b[1;32m    322\u001b[0m     \u001b[39melse\u001b[39;00m:\n",
      "\u001b[0;31mKeyboardInterrupt\u001b[0m: "
     ]
    }
   ],
   "source": [
    "from ast import arg\n",
    "import concurrent.futures\n",
    "from concurrent.futures import thread\n",
    "import multiprocessing\n",
    "import time\n",
    "class Worker:\n",
    "    def __init__(self) -> None:\n",
    "        self.last_v = -1\n",
    "        m = multiprocessing.Manager()\n",
    "        self.lock = m.Lock()\n",
    "        pass\n",
    "    def do(self, v):      \n",
    "      self.last_v = v\n",
    "      with self.lock:\n",
    "        print(f\"v:{v}\\n\")\n",
    "        time.sleep(v)      \n",
    "        print(f\"v:{v} last_v:{self.last_v}\\n\")\n",
    "        return v * self.last_v\n",
    "      \n",
    "\n",
    "input_arr = [1,2,3,4,5,6]\n",
    "result = []\n",
    "worker = Worker()\n",
    "with concurrent.futures.ProcessPoolExecutor(max_workers=3) as executor:\n",
    "    new_result = list(executor.map(worker.do, input_arr))\n",
    "result.extend(new_result)\n",
    "result"
   ]
  },
  {
   "cell_type": "code",
   "execution_count": 2,
   "metadata": {},
   "outputs": [
    {
     "name": "stdout",
     "output_type": "stream",
     "text": [
      "start:  \tthread_id:63234\tlast_v:0\tv:2\n",
      "\n",
      "changed:\tthread_id:63234\tlast_v:2\tv:2\n",
      "\n"
     ]
    },
    {
     "name": "stdout",
     "output_type": "stream",
     "text": [
      "sleeped:\tthread_id:63234\tlast_v:2\tv:2\n",
      "\n",
      "start:  \tthread_id:63232\tlast_v:0\tv:1\n",
      "\n",
      "changed:\tthread_id:63232\tlast_v:1\tv:1\n",
      "\n",
      "sleeped:\tthread_id:63232\tlast_v:1\tv:1\n",
      "\n",
      "start:  \tthread_id:63236\tlast_v:0\tv:3\n",
      "\n",
      "changed:\tthread_id:63236\tlast_v:3\tv:3\n",
      "\n",
      "sleeped:\tthread_id:63236\tlast_v:3\tv:3\n",
      "\n",
      "start:  \tthread_id:63234\tlast_v:0\tv:4\n",
      "\n",
      "changed:\tthread_id:63234\tlast_v:4\tv:4\n",
      "\n",
      "sleeped:\tthread_id:63234\tlast_v:4\tv:4\n",
      "\n",
      "start:  \tthread_id:63232\tlast_v:0\tv:5\n",
      "\n",
      "changed:\tthread_id:63232\tlast_v:5\tv:5\n",
      "\n",
      "sleeped:\tthread_id:63232\tlast_v:5\tv:5\n",
      "\n",
      "start:  \tthread_id:63236\tlast_v:0\tv:6\n",
      "\n",
      "changed:\tthread_id:63236\tlast_v:6\tv:6\n",
      "\n",
      "sleeped:\tthread_id:63236\tlast_v:6\tv:6\n",
      "\n"
     ]
    },
    {
     "data": {
      "text/plain": [
       "[1, 4, 9, 16, 25, 36]"
      ]
     },
     "execution_count": 2,
     "metadata": {},
     "output_type": "execute_result"
    }
   ],
   "source": [
    "from ast import arg\n",
    "import concurrent.futures\n",
    "from concurrent.futures import thread\n",
    "import multiprocessing\n",
    "import time\n",
    "class Worker:\n",
    "    def __init__(self) -> None:\n",
    "        self.last_v = 0\n",
    "        pass\n",
    "    def do(self, args):\n",
    "      v = args[0]\n",
    "      lock = args[1]\n",
    "      thread_id = multiprocessing.current_process().ident\n",
    "      with lock:\n",
    "        print(f\"start:  \\tthread_id:{thread_id }\\tlast_v:{self.last_v}\\tv:{v}\\n\")\n",
    "        self.last_v = v + self.last_v\n",
    "        print(f\"changed:\\tthread_id:{thread_id }\\tlast_v:{self.last_v}\\tv:{v}\\n\")\n",
    "        time.sleep(v)      \n",
    "        print(f\"sleeped:\\tthread_id:{thread_id }\\tlast_v:{self.last_v}\\tv:{v}\\n\")\n",
    "        return v * self.last_v\n",
    "      \n",
    "m = multiprocessing.Manager()\n",
    "lock = m.Lock()\n",
    "\n",
    "input_arr = [(v,lock) for v in [1,2,3,4,5,6]]\n",
    "result = []\n",
    "worker = Worker()\n",
    "with concurrent.futures.ProcessPoolExecutor(max_workers=3) as executor:\n",
    "    new_result = list(executor.map(worker.do, input_arr))\n",
    "result.extend(new_result)\n",
    "result"
   ]
  },
  {
   "cell_type": "code",
   "execution_count": 21,
   "metadata": {},
   "outputs": [
    {
     "name": "stdout",
     "output_type": "stream",
     "text": [
      "Thread ID: 140204492969728\n"
     ]
    }
   ],
   "source": [
    "import threading\n",
    "\n",
    "def my_function():\n",
    "    print(\"Thread ID:\", threading.get_ident())\n",
    "\n",
    "# Create and start a new thread\n",
    "my_thread = threading.Thread(target=my_function)\n",
    "my_thread.start()"
   ]
  },
  {
   "cell_type": "code",
   "execution_count": 2,
   "metadata": {},
   "outputs": [
    {
     "name": "stdout",
     "output_type": "stream",
     "text": [
      "[2, 4, 6, 8, 10]\n"
     ]
    }
   ],
   "source": [
    "import concurrent.futures\n",
    "\n",
    "# Your function that will be executed in parallel\n",
    "def do(x):\n",
    "    return x * 2\n",
    "\n",
    "# List of arguments for the function\n",
    "args_list = [1, 2, 3, 4, 5]\n",
    "\n",
    "with concurrent.futures.ProcessPoolExecutor() as executor:\n",
    "    # map() applies the do() function to each item in args_list in parallel\n",
    "    futures = [executor.submit(do, x) for x in args_list]\n",
    "\n",
    "# Wait for all the futures to complete\n",
    "concurrent.futures.wait(futures)\n",
    "\n",
    "# Collect the results\n",
    "results = [future.result() for future in futures]\n",
    "print(results)  # Output: [2, 4, 6, 8, 10]\n"
   ]
  }
 ],
 "metadata": {
  "kernelspec": {
   "display_name": "Python 3",
   "language": "python",
   "name": "python3"
  },
  "language_info": {
   "codemirror_mode": {
    "name": "ipython",
    "version": 3
   },
   "file_extension": ".py",
   "mimetype": "text/x-python",
   "name": "python",
   "nbconvert_exporter": "python",
   "pygments_lexer": "ipython3",
   "version": "3.11.2"
  }
 },
 "nbformat": 4,
 "nbformat_minor": 2
}
