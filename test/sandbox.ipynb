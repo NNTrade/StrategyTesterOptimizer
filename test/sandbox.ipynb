{
 "cells": [
  {
   "cell_type": "code",
   "execution_count": 1,
   "metadata": {},
   "outputs": [],
   "source": [
    "from typing import Tuple"
   ]
  },
  {
   "cell_type": "code",
   "execution_count": 3,
   "metadata": {},
   "outputs": [
    {
     "data": {
      "text/plain": [
       "(1, 2)"
      ]
     },
     "execution_count": 3,
     "metadata": {},
     "output_type": "execute_result"
    }
   ],
   "source": [
    "test_tuple = (1,2)\n",
    "test_tuple"
   ]
  },
  {
   "cell_type": "code",
   "execution_count": 4,
   "metadata": {},
   "outputs": [
    {
     "ename": "TypeError",
     "evalue": "'tuple' object does not support item assignment",
     "output_type": "error",
     "traceback": [
      "\u001b[0;31m---------------------------------------------------------------------------\u001b[0m",
      "\u001b[0;31mTypeError\u001b[0m                                 Traceback (most recent call last)",
      "\u001b[1;32m/workspaces/StrategyTesterOptimizer/test/sandbox.ipynb Cell 3\u001b[0m line \u001b[0;36m1\n\u001b[0;32m----> <a href='vscode-notebook-cell://dev-container%2B7b22686f737450617468223a222f686f6d652f696e736f6e75736b2f4d7950726f6772616d732f4e4e54726164652f53747261746567795465737465724f7074696d697a6572222c226c6f63616c446f636b6572223a66616c73652c2273657474696e6773223a7b22686f7374223a227373683a2f2f41697572227d2c22636f6e66696746696c65223a7b22246d6964223a312c2270617468223a222f686f6d652f696e736f6e75736b2f4d7950726f6772616d732f4e4e54726164652f53747261746567795465737465724f7074696d697a65722f2e646576636f6e7461696e65722f646576636f6e7461696e65722e6a736f6e222c22736368656d65223a227673636f64652d66696c65486f7374227d7d/workspaces/StrategyTesterOptimizer/test/sandbox.ipynb#W2sdnNjb2RlLXJlbW90ZQ%3D%3D?line=0'>1</a>\u001b[0m test_tuple[\u001b[39m0\u001b[39;49m]\u001b[39m=\u001b[39m \u001b[39m9\u001b[39m\n\u001b[1;32m      <a href='vscode-notebook-cell://dev-container%2B7b22686f737450617468223a222f686f6d652f696e736f6e75736b2f4d7950726f6772616d732f4e4e54726164652f53747261746567795465737465724f7074696d697a6572222c226c6f63616c446f636b6572223a66616c73652c2273657474696e6773223a7b22686f7374223a227373683a2f2f41697572227d2c22636f6e66696746696c65223a7b22246d6964223a312c2270617468223a222f686f6d652f696e736f6e75736b2f4d7950726f6772616d732f4e4e54726164652f53747261746567795465737465724f7074696d697a65722f2e646576636f6e7461696e65722f646576636f6e7461696e65722e6a736f6e222c22736368656d65223a227673636f64652d66696c65486f7374227d7d/workspaces/StrategyTesterOptimizer/test/sandbox.ipynb#W2sdnNjb2RlLXJlbW90ZQ%3D%3D?line=1'>2</a>\u001b[0m test_tuple\n",
      "\u001b[0;31mTypeError\u001b[0m: 'tuple' object does not support item assignment"
     ]
    }
   ],
   "source": [
    "test_tuple[0]= 9\n",
    "test_tuple"
   ]
  },
  {
   "cell_type": "code",
   "execution_count": 6,
   "metadata": {},
   "outputs": [
    {
     "data": {
      "text/plain": [
       "{datetime.datetime(2023, 9, 1, 0, 0): 10.5,\n",
       " datetime.datetime(2023, 9, 2, 0, 0): 12.7,\n",
       " datetime.datetime(2023, 9, 3, 0, 0): 15.2}"
      ]
     },
     "execution_count": 6,
     "metadata": {},
     "output_type": "execute_result"
    }
   ],
   "source": [
    "from datetime import datetime\n",
    "\n",
    "# Your original dictionary\n",
    "original_dict = {\n",
    "    datetime(2023, 9, 1): 10.5,\n",
    "    datetime(2023, 9, 3): 15.2,\n",
    "    datetime(2023, 9, 2): 12.7,\n",
    "}\n",
    "\n",
    "# Convert the dictionary to a sorted list of tuples\n",
    "sorted_list = sorted(original_dict.items())\n",
    "\n",
    "# Create a new dictionary from the sorted list\n",
    "sorted_dict = dict(sorted_list)\n",
    "\n",
    "# Now you can access elements using datetime keys\n",
    "\n",
    "sorted_dict\n"
   ]
  },
  {
   "cell_type": "code",
   "execution_count": 8,
   "metadata": {},
   "outputs": [
    {
     "data": {
      "text/plain": [
       "(datetime.datetime(2023, 9, 1, 0, 0), 10.5)"
      ]
     },
     "execution_count": 8,
     "metadata": {},
     "output_type": "execute_result"
    }
   ],
   "source": [
    "list(sorted_dict.items())[0]"
   ]
  },
  {
   "cell_type": "code",
   "execution_count": 17,
   "metadata": {},
   "outputs": [
    {
     "name": "stdout",
     "output_type": "stream",
     "text": [
      "2023-09-01 00:00:00- 2023-09-04 00:00:00\n",
      "2023-09-04 00:00:00- 2023-09-07 00:00:00\n",
      "2023-09-07 00:00:00- 2023-09-11 00:00:00\n"
     ]
    }
   ],
   "source": [
    "from datetime import datetime,timedelta\n",
    "from_dt = datetime(2023, 9, 1)\n",
    "untill_dt =  datetime(2023, 9, 11)\n",
    "cc = 3\n",
    "ts = untill_dt - from_dt\n",
    "step_ts = timedelta(days=int(ts.days/cc))\n",
    "cur_dt = from_dt\n",
    "for i in range(cc-1):\n",
    "  new_untill = cur_dt + step_ts\n",
    "  if new_untill > untill_dt:\n",
    "    new_untill = untill_dt\n",
    "  print(f\"{cur_dt}- {new_untill}\")\n",
    "  cur_dt = new_untill\n",
    "print(f\"{cur_dt}- {untill_dt}\")"
   ]
  },
  {
   "cell_type": "code",
   "execution_count": 1,
   "metadata": {},
   "outputs": [],
   "source": [
    "import src.strategy.run_config as cfg"
   ]
  },
  {
   "cell_type": "code",
   "execution_count": 2,
   "metadata": {},
   "outputs": [],
   "source": [
    "str_set = cfg.StrategyConfigSet.Builder().add_set(\"A\", [1,2]).add_set(\n",
    "          \"B\", [4]).build()\n",
    "expected_record1 = cfg.StrategyConfig({\"A\":1, \"B\":4})\n",
    "expected_record2 = cfg.StrategyConfig({\"A\":2, \"B\":4})"
   ]
  },
  {
   "cell_type": "code",
   "execution_count": 3,
   "metadata": {},
   "outputs": [
    {
     "data": {
      "text/plain": [
       "<src.strategy.run_config.strategy_config.StrategyConfig at 0x7f5e47a35b90>"
      ]
     },
     "execution_count": 3,
     "metadata": {},
     "output_type": "execute_result"
    }
   ],
   "source": [
    "str_set.as_records()[0]"
   ]
  },
  {
   "cell_type": "code",
   "execution_count": 4,
   "metadata": {},
   "outputs": [
    {
     "data": {
      "text/plain": [
       "8094212078855480490"
      ]
     },
     "execution_count": 4,
     "metadata": {},
     "output_type": "execute_result"
    }
   ],
   "source": [
    "hash(str_set.as_records()[0])"
   ]
  },
  {
   "cell_type": "code",
   "execution_count": 11,
   "metadata": {},
   "outputs": [
    {
     "name": "stdout",
     "output_type": "stream",
     "text": [
      "v1:2, v2:4v1:1, v2:2v1:3, v2:6\n",
      "\n",
      "\n"
     ]
    },
    {
     "data": {
      "text/plain": [
       "[]"
      ]
     },
     "execution_count": 11,
     "metadata": {},
     "output_type": "execute_result"
    }
   ],
   "source": [
    "import concurrent.futures\n",
    "\n",
    "arr = [1,2,3]\n",
    "arr_tpl = [(v,v*2) for v in arr]\n",
    "\n",
    "result = []\n",
    "\n",
    "def do(v_tpl):\n",
    "  v1 = v_tpl[0]\n",
    "  v2 = v_tpl[1]\n",
    "  result.append(v1)\n",
    "  print(f\"v1:{v1}, v2:{v2}\")\n",
    "\n",
    "\n",
    "with concurrent.futures.ProcessPoolExecutor(max_workers=5) as executor:\n",
    "  # Map the do function to the list of tasks\n",
    "  executor.map(do, arr_tpl)\n",
    "result"
   ]
  },
  {
   "cell_type": "code",
   "execution_count": 19,
   "metadata": {},
   "outputs": [
    {
     "ename": "IndentationError",
     "evalue": "expected an indented block after class definition on line 4 (761719347.py, line 5)",
     "output_type": "error",
     "traceback": [
      "\u001b[0;36m  Cell \u001b[0;32mIn[19], line 5\u001b[0;36m\u001b[0m\n\u001b[0;31m    def process_rep(tpl):\u001b[0m\n\u001b[0m    ^\u001b[0m\n\u001b[0;31mIndentationError\u001b[0m\u001b[0;31m:\u001b[0m expected an indented block after class definition on line 4\n"
     ]
    }
   ],
   "source": [
    "import concurrent.futures\n",
    "\n",
    "result = []\n",
    "\n",
    "def process_rep(tpl):\n",
    "    v1 = tpl[0]\n",
    "    v2 = tpl[1]\n",
    "    print(f\"v1:{v1}, v2:{v2}\\n\")\n",
    "    return v1 * v2\n",
    "\n",
    "# Assuming rep_list is your list of tasks\n",
    "rep_list =  [(v,v*2) for v in [1,2,3,4]]\n",
    "\n",
    "with concurrent.futures.ProcessPoolExecutor() as executor:\n",
    "    new_result = list(executor.map(process_rep, rep_list))\n",
    "result.extend(new_result)\n",
    "print(rep_list)\n",
    "result"
   ]
  },
  {
   "cell_type": "code",
   "execution_count": 22,
   "metadata": {},
   "outputs": [
    {
     "name": "stdout",
     "output_type": "stream",
     "text": [
      "v:2\n",
      "v:1\n",
      "v:3\n",
      "\n",
      "v:4\n",
      "\n",
      "\n",
      "\n"
     ]
    },
    {
     "data": {
      "text/plain": [
       "[2, 4, 6, 8]"
      ]
     },
     "execution_count": 22,
     "metadata": {},
     "output_type": "execute_result"
    }
   ],
   "source": [
    "class Worker:\n",
    "    def __init__(self,mult:int) -> None:\n",
    "        self.mult = mult\n",
    "        pass\n",
    "    def do(self, v):\n",
    "      print(f\"v:{v}\\n\")\n",
    "      return v * self.mult\n",
    "    \n",
    "input_arr = [1,2,3,4]\n",
    "result = []\n",
    "worker = Worker(2)\n",
    "with concurrent.futures.ProcessPoolExecutor(max_workers=7) as executor:\n",
    "    new_result = list(executor.map(worker.do, input_arr))\n",
    "result.extend(new_result)\n",
    "result"
   ]
  },
  {
   "cell_type": "code",
   "execution_count": 21,
   "metadata": {},
   "outputs": [
    {
     "name": "stdout",
     "output_type": "stream",
     "text": [
      "Thread ID: 140204492969728\n"
     ]
    }
   ],
   "source": [
    "import threading\n",
    "\n",
    "def my_function():\n",
    "    print(\"Thread ID:\", threading.get_ident())\n",
    "\n",
    "# Create and start a new thread\n",
    "my_thread = threading.Thread(target=my_function)\n",
    "my_thread.start()"
   ]
  },
  {
   "cell_type": "code",
   "execution_count": 2,
   "metadata": {},
   "outputs": [
    {
     "name": "stdout",
     "output_type": "stream",
     "text": [
      "[2, 4, 6, 8, 10]\n"
     ]
    }
   ],
   "source": [
    "import concurrent.futures\n",
    "\n",
    "# Your function that will be executed in parallel\n",
    "def do(x):\n",
    "    return x * 2\n",
    "\n",
    "# List of arguments for the function\n",
    "args_list = [1, 2, 3, 4, 5]\n",
    "\n",
    "with concurrent.futures.ProcessPoolExecutor() as executor:\n",
    "    # map() applies the do() function to each item in args_list in parallel\n",
    "    futures = [executor.submit(do, x) for x in args_list]\n",
    "\n",
    "# Wait for all the futures to complete\n",
    "concurrent.futures.wait(futures)\n",
    "\n",
    "# Collect the results\n",
    "results = [future.result() for future in futures]\n",
    "print(results)  # Output: [2, 4, 6, 8, 10]\n"
   ]
  },
  {
   "cell_type": "code",
   "execution_count": 6,
   "metadata": {},
   "outputs": [
    {
     "ename": "KeyboardInterrupt",
     "evalue": "",
     "output_type": "error",
     "traceback": [
      "\u001b[0;31m---------------------------------------------------------------------------\u001b[0m",
      "\u001b[0;31mKeyboardInterrupt\u001b[0m                         Traceback (most recent call last)",
      "\u001b[1;32m/workspaces/StrategyTesterOptimizer/test/sandbox.ipynb Cell 16\u001b[0m line \u001b[0;36m5\n\u001b[1;32m      <a href='vscode-notebook-cell://dev-container%2B7b22686f737450617468223a222f686f6d652f696e736f6e75736b2f4d7950726f6772616d732f4e4e54726164652f53747261746567795465737465724f7074696d697a6572222c226c6f63616c446f636b6572223a66616c73652c2273657474696e6773223a7b22686f7374223a227373683a2f2f41697572227d2c22636f6e66696746696c65223a7b22246d6964223a312c2270617468223a222f686f6d652f696e736f6e75736b2f4d7950726f6772616d732f4e4e54726164652f53747261746567795465737465724f7074696d697a65722f2e646576636f6e7461696e65722f646576636f6e7461696e65722e6a736f6e222c22736368656d65223a227673636f64652d66696c65486f7374227d7d/workspaces/StrategyTesterOptimizer/test/sandbox.ipynb#X21sdnNjb2RlLXJlbW90ZQ%3D%3D?line=2'>3</a>\u001b[0m \u001b[39mimport\u001b[39;00m \u001b[39mtime\u001b[39;00m\n\u001b[1;32m      <a href='vscode-notebook-cell://dev-container%2B7b22686f737450617468223a222f686f6d652f696e736f6e75736b2f4d7950726f6772616d732f4e4e54726164652f53747261746567795465737465724f7074696d697a6572222c226c6f63616c446f636b6572223a66616c73652c2273657474696e6773223a7b22686f7374223a227373683a2f2f41697572227d2c22636f6e66696746696c65223a7b22246d6964223a312c2270617468223a222f686f6d652f696e736f6e75736b2f4d7950726f6772616d732f4e4e54726164652f53747261746567795465737465724f7074696d697a65722f2e646576636f6e7461696e65722f646576636f6e7461696e65722e6a736f6e222c22736368656d65223a227673636f64652d66696c65486f7374227d7d/workspaces/StrategyTesterOptimizer/test/sandbox.ipynb#X21sdnNjb2RlLXJlbW90ZQ%3D%3D?line=3'>4</a>\u001b[0m \u001b[39mimport\u001b[39;00m \u001b[39mmultiprocessing\u001b[39;00m\n\u001b[0;32m----> <a href='vscode-notebook-cell://dev-container%2B7b22686f737450617468223a222f686f6d652f696e736f6e75736b2f4d7950726f6772616d732f4e4e54726164652f53747261746567795465737465724f7074696d697a6572222c226c6f63616c446f636b6572223a66616c73652c2273657474696e6773223a7b22686f7374223a227373683a2f2f41697572227d2c22636f6e66696746696c65223a7b22246d6964223a312c2270617468223a222f686f6d652f696e736f6e75736b2f4d7950726f6772616d732f4e4e54726164652f53747261746567795465737465724f7074696d697a65722f2e646576636f6e7461696e65722f646576636f6e7461696e65722e6a736f6e222c22736368656d65223a227673636f64652d66696c65486f7374227d7d/workspaces/StrategyTesterOptimizer/test/sandbox.ipynb#X21sdnNjb2RlLXJlbW90ZQ%3D%3D?line=4'>5</a>\u001b[0m m \u001b[39m=\u001b[39m multiprocessing\u001b[39m.\u001b[39;49mManager()\n\u001b[1;32m      <a href='vscode-notebook-cell://dev-container%2B7b22686f737450617468223a222f686f6d652f696e736f6e75736b2f4d7950726f6772616d732f4e4e54726164652f53747261746567795465737465724f7074696d697a6572222c226c6f63616c446f636b6572223a66616c73652c2273657474696e6773223a7b22686f7374223a227373683a2f2f41697572227d2c22636f6e66696746696c65223a7b22246d6964223a312c2270617468223a222f686f6d652f696e736f6e75736b2f4d7950726f6772616d732f4e4e54726164652f53747261746567795465737465724f7074696d697a65722f2e646576636f6e7461696e65722f646576636f6e7461696e65722e6a736f6e222c22736368656d65223a227673636f64652d66696c65486f7374227d7d/workspaces/StrategyTesterOptimizer/test/sandbox.ipynb#X21sdnNjb2RlLXJlbW90ZQ%3D%3D?line=5'>6</a>\u001b[0m lock \u001b[39m=\u001b[39m m\u001b[39m.\u001b[39mLock()\n\u001b[1;32m      <a href='vscode-notebook-cell://dev-container%2B7b22686f737450617468223a222f686f6d652f696e736f6e75736b2f4d7950726f6772616d732f4e4e54726164652f53747261746567795465737465724f7074696d697a6572222c226c6f63616c446f636b6572223a66616c73652c2273657474696e6773223a7b22686f7374223a227373683a2f2f41697572227d2c22636f6e66696746696c65223a7b22246d6964223a312c2270617468223a222f686f6d652f696e736f6e75736b2f4d7950726f6772616d732f4e4e54726164652f53747261746567795465737465724f7074696d697a65722f2e646576636f6e7461696e65722f646576636f6e7461696e65722e6a736f6e222c22736368656d65223a227673636f64652d66696c65486f7374227d7d/workspaces/StrategyTesterOptimizer/test/sandbox.ipynb#X21sdnNjb2RlLXJlbW90ZQ%3D%3D?line=7'>8</a>\u001b[0m \u001b[39mclass\u001b[39;00m \u001b[39mtest_worker\u001b[39;00m:\n",
      "File \u001b[0;32m/usr/local/lib/python3.11/multiprocessing/context.py:57\u001b[0m, in \u001b[0;36mBaseContext.Manager\u001b[0;34m(self)\u001b[0m\n\u001b[1;32m     55\u001b[0m \u001b[39mfrom\u001b[39;00m \u001b[39m.\u001b[39;00m\u001b[39mmanagers\u001b[39;00m \u001b[39mimport\u001b[39;00m SyncManager\n\u001b[1;32m     56\u001b[0m m \u001b[39m=\u001b[39m SyncManager(ctx\u001b[39m=\u001b[39m\u001b[39mself\u001b[39m\u001b[39m.\u001b[39mget_context())\n\u001b[0;32m---> 57\u001b[0m m\u001b[39m.\u001b[39;49mstart()\n\u001b[1;32m     58\u001b[0m \u001b[39mreturn\u001b[39;00m m\n",
      "File \u001b[0;32m/usr/local/lib/python3.11/multiprocessing/managers.py:567\u001b[0m, in \u001b[0;36mBaseManager.start\u001b[0;34m(self, initializer, initargs)\u001b[0m\n\u001b[1;32m    565\u001b[0m \u001b[39m# get address of server\u001b[39;00m\n\u001b[1;32m    566\u001b[0m writer\u001b[39m.\u001b[39mclose()\n\u001b[0;32m--> 567\u001b[0m \u001b[39mself\u001b[39m\u001b[39m.\u001b[39m_address \u001b[39m=\u001b[39m reader\u001b[39m.\u001b[39;49mrecv()\n\u001b[1;32m    568\u001b[0m reader\u001b[39m.\u001b[39mclose()\n\u001b[1;32m    570\u001b[0m \u001b[39m# register a finalizer\u001b[39;00m\n",
      "File \u001b[0;32m/usr/local/lib/python3.11/multiprocessing/connection.py:249\u001b[0m, in \u001b[0;36m_ConnectionBase.recv\u001b[0;34m(self)\u001b[0m\n\u001b[1;32m    247\u001b[0m \u001b[39mself\u001b[39m\u001b[39m.\u001b[39m_check_closed()\n\u001b[1;32m    248\u001b[0m \u001b[39mself\u001b[39m\u001b[39m.\u001b[39m_check_readable()\n\u001b[0;32m--> 249\u001b[0m buf \u001b[39m=\u001b[39m \u001b[39mself\u001b[39;49m\u001b[39m.\u001b[39;49m_recv_bytes()\n\u001b[1;32m    250\u001b[0m \u001b[39mreturn\u001b[39;00m _ForkingPickler\u001b[39m.\u001b[39mloads(buf\u001b[39m.\u001b[39mgetbuffer())\n",
      "File \u001b[0;32m/usr/local/lib/python3.11/multiprocessing/connection.py:413\u001b[0m, in \u001b[0;36mConnection._recv_bytes\u001b[0;34m(self, maxsize)\u001b[0m\n\u001b[1;32m    412\u001b[0m \u001b[39mdef\u001b[39;00m \u001b[39m_recv_bytes\u001b[39m(\u001b[39mself\u001b[39m, maxsize\u001b[39m=\u001b[39m\u001b[39mNone\u001b[39;00m):\n\u001b[0;32m--> 413\u001b[0m     buf \u001b[39m=\u001b[39m \u001b[39mself\u001b[39;49m\u001b[39m.\u001b[39;49m_recv(\u001b[39m4\u001b[39;49m)\n\u001b[1;32m    414\u001b[0m     size, \u001b[39m=\u001b[39m struct\u001b[39m.\u001b[39munpack(\u001b[39m\"\u001b[39m\u001b[39m!i\u001b[39m\u001b[39m\"\u001b[39m, buf\u001b[39m.\u001b[39mgetvalue())\n\u001b[1;32m    415\u001b[0m     \u001b[39mif\u001b[39;00m size \u001b[39m==\u001b[39m \u001b[39m-\u001b[39m\u001b[39m1\u001b[39m:\n",
      "File \u001b[0;32m/usr/local/lib/python3.11/multiprocessing/connection.py:378\u001b[0m, in \u001b[0;36mConnection._recv\u001b[0;34m(self, size, read)\u001b[0m\n\u001b[1;32m    376\u001b[0m remaining \u001b[39m=\u001b[39m size\n\u001b[1;32m    377\u001b[0m \u001b[39mwhile\u001b[39;00m remaining \u001b[39m>\u001b[39m \u001b[39m0\u001b[39m:\n\u001b[0;32m--> 378\u001b[0m     chunk \u001b[39m=\u001b[39m read(handle, remaining)\n\u001b[1;32m    379\u001b[0m     n \u001b[39m=\u001b[39m \u001b[39mlen\u001b[39m(chunk)\n\u001b[1;32m    380\u001b[0m     \u001b[39mif\u001b[39;00m n \u001b[39m==\u001b[39m \u001b[39m0\u001b[39m:\n",
      "\u001b[0;31mKeyboardInterrupt\u001b[0m: "
     ]
    }
   ],
   "source": [
    "import threading\n",
    "import concurrent.futures\n",
    "import time\n",
    "import multiprocessing\n",
    "m = multiprocessing.Manager()\n",
    "lock = m.Lock()\n",
    "\n",
    "class test_worker:\n",
    "    def __init__(self, slock) -> None:\n",
    "        \n",
    "        # Create a lock\n",
    "        self.lock = slock\n",
    "\n",
    "    # Your function that will be executed in parallel\n",
    "    def do(self,x):\n",
    "        # Acquire the lock before executing non-parallel code\n",
    "        with self.lock:\n",
    "            time.sleep(3)\n",
    "        return x * 2\n",
    "\n",
    "# List of arguments for the function\n",
    "args_list = [1, 2, 3, 4, 5]\n",
    "\n",
    "worker = test_worker(lock)\n",
    "\n",
    "with concurrent.futures.ProcessPoolExecutor(max_workers=3) as executor:\n",
    "    # map() applies the do() function to each item in args_list in parallel\n",
    "    results = list(executor.map(worker.do, args_list))\n",
    "results"
   ]
  },
  {
   "cell_type": "code",
   "execution_count": 3,
   "metadata": {},
   "outputs": [
    {
     "data": {
      "text/plain": [
       "2"
      ]
     },
     "execution_count": 3,
     "metadata": {},
     "output_type": "execute_result"
    }
   ],
   "source": [
    "d = {\"A\":1,\"B\":2}"
   ]
  }
 ],
 "metadata": {
  "kernelspec": {
   "display_name": "Python 3",
   "language": "python",
   "name": "python3"
  },
  "language_info": {
   "codemirror_mode": {
    "name": "ipython",
    "version": 3
   },
   "file_extension": ".py",
   "mimetype": "text/x-python",
   "name": "python",
   "nbconvert_exporter": "python",
   "pygments_lexer": "ipython3",
   "version": "3.11.2"
  }
 },
 "nbformat": 4,
 "nbformat_minor": 2
}
