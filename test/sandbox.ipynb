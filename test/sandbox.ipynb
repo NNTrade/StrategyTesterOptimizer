{
 "cells": [
  {
   "cell_type": "code",
   "execution_count": 1,
   "metadata": {},
   "outputs": [],
   "source": [
    "from typing import Tuple"
   ]
  },
  {
   "cell_type": "code",
   "execution_count": 3,
   "metadata": {},
   "outputs": [
    {
     "data": {
      "text/plain": [
       "(1, 2)"
      ]
     },
     "execution_count": 3,
     "metadata": {},
     "output_type": "execute_result"
    }
   ],
   "source": [
    "test_tuple = (1,2)\n",
    "test_tuple"
   ]
  },
  {
   "cell_type": "code",
   "execution_count": 4,
   "metadata": {},
   "outputs": [
    {
     "ename": "TypeError",
     "evalue": "'tuple' object does not support item assignment",
     "output_type": "error",
     "traceback": [
      "\u001b[0;31m---------------------------------------------------------------------------\u001b[0m",
      "\u001b[0;31mTypeError\u001b[0m                                 Traceback (most recent call last)",
      "\u001b[1;32m/workspaces/StrategyTesterOptimizer/test/sandbox.ipynb Cell 3\u001b[0m line \u001b[0;36m1\n\u001b[0;32m----> <a href='vscode-notebook-cell://dev-container%2B7b22686f737450617468223a222f686f6d652f696e736f6e75736b2f4d7950726f6772616d732f4e4e54726164652f53747261746567795465737465724f7074696d697a6572222c226c6f63616c446f636b6572223a66616c73652c2273657474696e6773223a7b22686f7374223a227373683a2f2f41697572227d2c22636f6e66696746696c65223a7b22246d6964223a312c2270617468223a222f686f6d652f696e736f6e75736b2f4d7950726f6772616d732f4e4e54726164652f53747261746567795465737465724f7074696d697a65722f2e646576636f6e7461696e65722f646576636f6e7461696e65722e6a736f6e222c22736368656d65223a227673636f64652d66696c65486f7374227d7d/workspaces/StrategyTesterOptimizer/test/sandbox.ipynb#W2sdnNjb2RlLXJlbW90ZQ%3D%3D?line=0'>1</a>\u001b[0m test_tuple[\u001b[39m0\u001b[39;49m]\u001b[39m=\u001b[39m \u001b[39m9\u001b[39m\n\u001b[1;32m      <a href='vscode-notebook-cell://dev-container%2B7b22686f737450617468223a222f686f6d652f696e736f6e75736b2f4d7950726f6772616d732f4e4e54726164652f53747261746567795465737465724f7074696d697a6572222c226c6f63616c446f636b6572223a66616c73652c2273657474696e6773223a7b22686f7374223a227373683a2f2f41697572227d2c22636f6e66696746696c65223a7b22246d6964223a312c2270617468223a222f686f6d652f696e736f6e75736b2f4d7950726f6772616d732f4e4e54726164652f53747261746567795465737465724f7074696d697a65722f2e646576636f6e7461696e65722f646576636f6e7461696e65722e6a736f6e222c22736368656d65223a227673636f64652d66696c65486f7374227d7d/workspaces/StrategyTesterOptimizer/test/sandbox.ipynb#W2sdnNjb2RlLXJlbW90ZQ%3D%3D?line=1'>2</a>\u001b[0m test_tuple\n",
      "\u001b[0;31mTypeError\u001b[0m: 'tuple' object does not support item assignment"
     ]
    }
   ],
   "source": [
    "test_tuple[0]= 9\n",
    "test_tuple"
   ]
  },
  {
   "cell_type": "code",
   "execution_count": 6,
   "metadata": {},
   "outputs": [
    {
     "data": {
      "text/plain": [
       "{datetime.datetime(2023, 9, 1, 0, 0): 10.5,\n",
       " datetime.datetime(2023, 9, 2, 0, 0): 12.7,\n",
       " datetime.datetime(2023, 9, 3, 0, 0): 15.2}"
      ]
     },
     "execution_count": 6,
     "metadata": {},
     "output_type": "execute_result"
    }
   ],
   "source": [
    "from datetime import datetime\n",
    "\n",
    "# Your original dictionary\n",
    "original_dict = {\n",
    "    datetime(2023, 9, 1): 10.5,\n",
    "    datetime(2023, 9, 3): 15.2,\n",
    "    datetime(2023, 9, 2): 12.7,\n",
    "}\n",
    "\n",
    "# Convert the dictionary to a sorted list of tuples\n",
    "sorted_list = sorted(original_dict.items())\n",
    "\n",
    "# Create a new dictionary from the sorted list\n",
    "sorted_dict = dict(sorted_list)\n",
    "\n",
    "# Now you can access elements using datetime keys\n",
    "\n",
    "sorted_dict\n"
   ]
  },
  {
   "cell_type": "code",
   "execution_count": 8,
   "metadata": {},
   "outputs": [
    {
     "data": {
      "text/plain": [
       "(datetime.datetime(2023, 9, 1, 0, 0), 10.5)"
      ]
     },
     "execution_count": 8,
     "metadata": {},
     "output_type": "execute_result"
    }
   ],
   "source": [
    "list(sorted_dict.items())[0]"
   ]
  },
  {
   "cell_type": "code",
   "execution_count": 17,
   "metadata": {},
   "outputs": [
    {
     "name": "stdout",
     "output_type": "stream",
     "text": [
      "2023-09-01 00:00:00- 2023-09-04 00:00:00\n",
      "2023-09-04 00:00:00- 2023-09-07 00:00:00\n",
      "2023-09-07 00:00:00- 2023-09-11 00:00:00\n"
     ]
    }
   ],
   "source": [
    "from datetime import datetime,timedelta\n",
    "from_dt = datetime(2023, 9, 1)\n",
    "untill_dt =  datetime(2023, 9, 11)\n",
    "cc = 3\n",
    "ts = untill_dt - from_dt\n",
    "step_ts = timedelta(days=int(ts.days/cc))\n",
    "cur_dt = from_dt\n",
    "for i in range(cc-1):\n",
    "  new_untill = cur_dt + step_ts\n",
    "  if new_untill > untill_dt:\n",
    "    new_untill = untill_dt\n",
    "  print(f\"{cur_dt}- {new_untill}\")\n",
    "  cur_dt = new_untill\n",
    "print(f\"{cur_dt}- {untill_dt}\")"
   ]
  },
  {
   "cell_type": "code",
   "execution_count": 1,
   "metadata": {},
   "outputs": [],
   "source": [
    "import src.strategy.run_config as cfg"
   ]
  },
  {
   "cell_type": "code",
   "execution_count": 2,
   "metadata": {},
   "outputs": [],
   "source": [
    "str_set = cfg.StrategyConfigSet.Builder().add_set(\"A\", [1,2]).add_set(\n",
    "          \"B\", [4]).build()\n",
    "expected_record1 = cfg.StrategyConfig({\"A\":1, \"B\":4})\n",
    "expected_record2 = cfg.StrategyConfig({\"A\":2, \"B\":4})"
   ]
  },
  {
   "cell_type": "code",
   "execution_count": 3,
   "metadata": {},
   "outputs": [
    {
     "data": {
      "text/plain": [
       "<src.strategy.run_config.strategy_config.StrategyConfig at 0x7f5e47a35b90>"
      ]
     },
     "execution_count": 3,
     "metadata": {},
     "output_type": "execute_result"
    }
   ],
   "source": [
    "str_set.as_records()[0]"
   ]
  },
  {
   "cell_type": "code",
   "execution_count": 4,
   "metadata": {},
   "outputs": [
    {
     "data": {
      "text/plain": [
       "8094212078855480490"
      ]
     },
     "execution_count": 4,
     "metadata": {},
     "output_type": "execute_result"
    }
   ],
   "source": [
    "hash(str_set.as_records()[0])"
   ]
  },
  {
   "cell_type": "code",
   "execution_count": 11,
   "metadata": {},
   "outputs": [
    {
     "name": "stdout",
     "output_type": "stream",
     "text": [
      "v1:2, v2:4v1:1, v2:2v1:3, v2:6\n",
      "\n",
      "\n"
     ]
    },
    {
     "data": {
      "text/plain": [
       "[]"
      ]
     },
     "execution_count": 11,
     "metadata": {},
     "output_type": "execute_result"
    }
   ],
   "source": [
    "import concurrent.futures\n",
    "\n",
    "arr = [1,2,3]\n",
    "arr_tpl = [(v,v*2) for v in arr]\n",
    "\n",
    "result = []\n",
    "\n",
    "def do(v_tpl):\n",
    "  v1 = v_tpl[0]\n",
    "  v2 = v_tpl[1]\n",
    "  result.append(v1)\n",
    "  print(f\"v1:{v1}, v2:{v2}\")\n",
    "\n",
    "\n",
    "with concurrent.futures.ProcessPoolExecutor(max_workers=5) as executor:\n",
    "  # Map the do function to the list of tasks\n",
    "  executor.map(do, arr_tpl)\n",
    "result"
   ]
  },
  {
   "cell_type": "code",
   "execution_count": 19,
   "metadata": {},
   "outputs": [
    {
     "ename": "IndentationError",
     "evalue": "expected an indented block after class definition on line 4 (761719347.py, line 5)",
     "output_type": "error",
     "traceback": [
      "\u001b[0;36m  Cell \u001b[0;32mIn[19], line 5\u001b[0;36m\u001b[0m\n\u001b[0;31m    def process_rep(tpl):\u001b[0m\n\u001b[0m    ^\u001b[0m\n\u001b[0;31mIndentationError\u001b[0m\u001b[0;31m:\u001b[0m expected an indented block after class definition on line 4\n"
     ]
    }
   ],
   "source": [
    "import concurrent.futures\n",
    "\n",
    "result = []\n",
    "\n",
    "def process_rep(tpl):\n",
    "    v1 = tpl[0]\n",
    "    v2 = tpl[1]\n",
    "    print(f\"v1:{v1}, v2:{v2}\\n\")\n",
    "    return v1 * v2\n",
    "\n",
    "# Assuming rep_list is your list of tasks\n",
    "rep_list =  [(v,v*2) for v in [1,2,3,4]]\n",
    "\n",
    "with concurrent.futures.ProcessPoolExecutor() as executor:\n",
    "    new_result = list(executor.map(process_rep, rep_list))\n",
    "result.extend(new_result)\n",
    "print(rep_list)\n",
    "result"
   ]
  },
  {
   "cell_type": "code",
   "execution_count": 1,
   "metadata": {},
   "outputs": [
    {
     "name": "stdout",
     "output_type": "stream",
     "text": [
      "v:1\n",
      "\n"
     ]
    },
    {
     "name": "stdout",
     "output_type": "stream",
     "text": [
      "v:1 last_v:1\n",
      "\n",
      "v:2\n",
      "\n",
      "v:2 last_v:2\n",
      "\n",
      "v:3\n",
      "\n",
      "v:3 last_v:3\n",
      "\n",
      "v:4\n",
      "\n",
      "v:4 last_v:4\n",
      "\n",
      "v:5\n",
      "\n",
      "v:5 last_v:5\n",
      "\n",
      "v:6\n",
      "\n",
      "v:6 last_v:6\n",
      "\n"
     ]
    },
    {
     "data": {
      "text/plain": [
       "[1, 4, 9, 16, 25, 36]"
      ]
     },
     "execution_count": 1,
     "metadata": {},
     "output_type": "execute_result"
    }
   ],
   "source": [
    "from ast import arg\n",
    "import concurrent.futures\n",
    "from concurrent.futures import thread\n",
    "import multiprocessing\n",
    "import time\n",
    "class Worker:\n",
    "    def __init__(self,lock, lock2) -> None:\n",
    "        self.last_v = -1\n",
    "        self.lock = lock\n",
    "        self.lock2 = lock2\n",
    "        pass\n",
    "    def do(self, v):      \n",
    "      self.last_v = v\n",
    "      with self.lock:\n",
    "        with self.lock2:\n",
    "          print(f\"v:{v}\\n\")\n",
    "          time.sleep(v)      \n",
    "          print(f\"v:{v} last_v:{self.last_v}\\n\")\n",
    "          return v * self.last_v\n",
    "      \n",
    "m = multiprocessing.Manager()\n",
    "lock = m.Lock()\n",
    "lock2 = m.Lock()\n",
    "\n",
    "input_arr = [1,2,3,4,5,6]\n",
    "result = []\n",
    "worker = Worker(lock,lock2)\n",
    "with concurrent.futures.ProcessPoolExecutor(max_workers=3) as executor:\n",
    "    new_result = list(executor.map(worker.do, input_arr))\n",
    "result.extend(new_result)\n",
    "result"
   ]
  },
  {
   "cell_type": "code",
   "execution_count": 2,
   "metadata": {},
   "outputs": [
    {
     "name": "stdout",
     "output_type": "stream",
     "text": [
      "v:1\n",
      "\n",
      "v:1 last_v:1\n",
      "\n",
      "v:2\n",
      "\n",
      "v:2 last_v:2\n",
      "\n",
      "v:3\n",
      "\n",
      "v:3 last_v:3\n",
      "\n",
      "v:4\n",
      "\n",
      "v:4 last_v:4\n",
      "\n",
      "v:5\n",
      "\n",
      "v:5 last_v:5\n",
      "\n",
      "v:6\n",
      "\n",
      "v:6 last_v:6\n",
      "\n"
     ]
    },
    {
     "ename": "KeyboardInterrupt",
     "evalue": "",
     "output_type": "error",
     "traceback": [
      "\u001b[0;31m---------------------------------------------------------------------------\u001b[0m",
      "\u001b[0;31mKeyboardInterrupt\u001b[0m                         Traceback (most recent call last)",
      "\u001b[1;32m/workspaces/StrategyTesterOptimizer/test/sandbox.ipynb Cell 14\u001b[0m line \u001b[0;36m2\n\u001b[1;32m     <a href='vscode-notebook-cell://dev-container%2B7b22686f737450617468223a222f686f6d652f696e736f6e75736b2f4d7950726f6772616d732f4e4e54726164652f53747261746567795465737465724f7074696d697a6572222c226c6f63616c446f636b6572223a66616c73652c2273657474696e6773223a7b22686f7374223a227373683a2f2f41697572227d2c22636f6e66696746696c65223a7b22246d6964223a312c2270617468223a222f686f6d652f696e736f6e75736b2f4d7950726f6772616d732f4e4e54726164652f53747261746567795465737465724f7074696d697a65722f2e646576636f6e7461696e65722f646576636f6e7461696e65722e6a736f6e222c22736368656d65223a227673636f64652d66696c65486f7374227d7d/workspaces/StrategyTesterOptimizer/test/sandbox.ipynb#X22sdnNjb2RlLXJlbW90ZQ%3D%3D?line=22'>23</a>\u001b[0m worker \u001b[39m=\u001b[39m Worker()\n\u001b[1;32m     <a href='vscode-notebook-cell://dev-container%2B7b22686f737450617468223a222f686f6d652f696e736f6e75736b2f4d7950726f6772616d732f4e4e54726164652f53747261746567795465737465724f7074696d697a6572222c226c6f63616c446f636b6572223a66616c73652c2273657474696e6773223a7b22686f7374223a227373683a2f2f41697572227d2c22636f6e66696746696c65223a7b22246d6964223a312c2270617468223a222f686f6d652f696e736f6e75736b2f4d7950726f6772616d732f4e4e54726164652f53747261746567795465737465724f7074696d697a65722f2e646576636f6e7461696e65722f646576636f6e7461696e65722e6a736f6e222c22736368656d65223a227673636f64652d66696c65486f7374227d7d/workspaces/StrategyTesterOptimizer/test/sandbox.ipynb#X22sdnNjb2RlLXJlbW90ZQ%3D%3D?line=23'>24</a>\u001b[0m \u001b[39mwith\u001b[39;00m concurrent\u001b[39m.\u001b[39mfutures\u001b[39m.\u001b[39mProcessPoolExecutor(max_workers\u001b[39m=\u001b[39m\u001b[39m3\u001b[39m) \u001b[39mas\u001b[39;00m executor:\n\u001b[0;32m---> <a href='vscode-notebook-cell://dev-container%2B7b22686f737450617468223a222f686f6d652f696e736f6e75736b2f4d7950726f6772616d732f4e4e54726164652f53747261746567795465737465724f7074696d697a6572222c226c6f63616c446f636b6572223a66616c73652c2273657474696e6773223a7b22686f7374223a227373683a2f2f41697572227d2c22636f6e66696746696c65223a7b22246d6964223a312c2270617468223a222f686f6d652f696e736f6e75736b2f4d7950726f6772616d732f4e4e54726164652f53747261746567795465737465724f7074696d697a65722f2e646576636f6e7461696e65722f646576636f6e7461696e65722e6a736f6e222c22736368656d65223a227673636f64652d66696c65486f7374227d7d/workspaces/StrategyTesterOptimizer/test/sandbox.ipynb#X22sdnNjb2RlLXJlbW90ZQ%3D%3D?line=24'>25</a>\u001b[0m     new_result \u001b[39m=\u001b[39m \u001b[39mlist\u001b[39;49m(executor\u001b[39m.\u001b[39;49mmap(worker\u001b[39m.\u001b[39;49mdo, input_arr))\n\u001b[1;32m     <a href='vscode-notebook-cell://dev-container%2B7b22686f737450617468223a222f686f6d652f696e736f6e75736b2f4d7950726f6772616d732f4e4e54726164652f53747261746567795465737465724f7074696d697a6572222c226c6f63616c446f636b6572223a66616c73652c2273657474696e6773223a7b22686f7374223a227373683a2f2f41697572227d2c22636f6e66696746696c65223a7b22246d6964223a312c2270617468223a222f686f6d652f696e736f6e75736b2f4d7950726f6772616d732f4e4e54726164652f53747261746567795465737465724f7074696d697a65722f2e646576636f6e7461696e65722f646576636f6e7461696e65722e6a736f6e222c22736368656d65223a227673636f64652d66696c65486f7374227d7d/workspaces/StrategyTesterOptimizer/test/sandbox.ipynb#X22sdnNjb2RlLXJlbW90ZQ%3D%3D?line=25'>26</a>\u001b[0m result\u001b[39m.\u001b[39mextend(new_result)\n\u001b[1;32m     <a href='vscode-notebook-cell://dev-container%2B7b22686f737450617468223a222f686f6d652f696e736f6e75736b2f4d7950726f6772616d732f4e4e54726164652f53747261746567795465737465724f7074696d697a6572222c226c6f63616c446f636b6572223a66616c73652c2273657474696e6773223a7b22686f7374223a227373683a2f2f41697572227d2c22636f6e66696746696c65223a7b22246d6964223a312c2270617468223a222f686f6d652f696e736f6e75736b2f4d7950726f6772616d732f4e4e54726164652f53747261746567795465737465724f7074696d697a65722f2e646576636f6e7461696e65722f646576636f6e7461696e65722e6a736f6e222c22736368656d65223a227673636f64652d66696c65486f7374227d7d/workspaces/StrategyTesterOptimizer/test/sandbox.ipynb#X22sdnNjb2RlLXJlbW90ZQ%3D%3D?line=26'>27</a>\u001b[0m result\n",
      "File \u001b[0;32m/usr/local/lib/python3.11/concurrent/futures/process.py:597\u001b[0m, in \u001b[0;36m_chain_from_iterable_of_lists\u001b[0;34m(iterable)\u001b[0m\n\u001b[1;32m    591\u001b[0m \u001b[39mdef\u001b[39;00m \u001b[39m_chain_from_iterable_of_lists\u001b[39m(iterable):\n\u001b[1;32m    592\u001b[0m \u001b[39m    \u001b[39m\u001b[39m\"\"\"\u001b[39;00m\n\u001b[1;32m    593\u001b[0m \u001b[39m    Specialized implementation of itertools.chain.from_iterable.\u001b[39;00m\n\u001b[1;32m    594\u001b[0m \u001b[39m    Each item in *iterable* should be a list.  This function is\u001b[39;00m\n\u001b[1;32m    595\u001b[0m \u001b[39m    careful not to keep references to yielded objects.\u001b[39;00m\n\u001b[1;32m    596\u001b[0m \u001b[39m    \"\"\"\u001b[39;00m\n\u001b[0;32m--> 597\u001b[0m     \u001b[39mfor\u001b[39;49;00m element \u001b[39min\u001b[39;49;00m iterable:\n\u001b[1;32m    598\u001b[0m         element\u001b[39m.\u001b[39;49mreverse()\n\u001b[1;32m    599\u001b[0m         \u001b[39mwhile\u001b[39;49;00m element:\n",
      "File \u001b[0;32m/usr/local/lib/python3.11/concurrent/futures/_base.py:619\u001b[0m, in \u001b[0;36mExecutor.map.<locals>.result_iterator\u001b[0;34m()\u001b[0m\n\u001b[1;32m    616\u001b[0m \u001b[39mwhile\u001b[39;00m fs:\n\u001b[1;32m    617\u001b[0m     \u001b[39m# Careful not to keep a reference to the popped future\u001b[39;00m\n\u001b[1;32m    618\u001b[0m     \u001b[39mif\u001b[39;00m timeout \u001b[39mis\u001b[39;00m \u001b[39mNone\u001b[39;00m:\n\u001b[0;32m--> 619\u001b[0m         \u001b[39myield\u001b[39;00m _result_or_cancel(fs\u001b[39m.\u001b[39;49mpop())\n\u001b[1;32m    620\u001b[0m     \u001b[39melse\u001b[39;00m:\n\u001b[1;32m    621\u001b[0m         \u001b[39myield\u001b[39;00m _result_or_cancel(fs\u001b[39m.\u001b[39mpop(), end_time \u001b[39m-\u001b[39m time\u001b[39m.\u001b[39mmonotonic())\n",
      "File \u001b[0;32m/usr/local/lib/python3.11/concurrent/futures/_base.py:317\u001b[0m, in \u001b[0;36m_result_or_cancel\u001b[0;34m(***failed resolving arguments***)\u001b[0m\n\u001b[1;32m    315\u001b[0m \u001b[39mtry\u001b[39;00m:\n\u001b[1;32m    316\u001b[0m     \u001b[39mtry\u001b[39;00m:\n\u001b[0;32m--> 317\u001b[0m         \u001b[39mreturn\u001b[39;00m fut\u001b[39m.\u001b[39;49mresult(timeout)\n\u001b[1;32m    318\u001b[0m     \u001b[39mfinally\u001b[39;00m:\n\u001b[1;32m    319\u001b[0m         fut\u001b[39m.\u001b[39mcancel()\n",
      "File \u001b[0;32m/usr/local/lib/python3.11/concurrent/futures/_base.py:451\u001b[0m, in \u001b[0;36mFuture.result\u001b[0;34m(self, timeout)\u001b[0m\n\u001b[1;32m    448\u001b[0m \u001b[39melif\u001b[39;00m \u001b[39mself\u001b[39m\u001b[39m.\u001b[39m_state \u001b[39m==\u001b[39m FINISHED:\n\u001b[1;32m    449\u001b[0m     \u001b[39mreturn\u001b[39;00m \u001b[39mself\u001b[39m\u001b[39m.\u001b[39m__get_result()\n\u001b[0;32m--> 451\u001b[0m \u001b[39mself\u001b[39;49m\u001b[39m.\u001b[39;49m_condition\u001b[39m.\u001b[39;49mwait(timeout)\n\u001b[1;32m    453\u001b[0m \u001b[39mif\u001b[39;00m \u001b[39mself\u001b[39m\u001b[39m.\u001b[39m_state \u001b[39min\u001b[39;00m [CANCELLED, CANCELLED_AND_NOTIFIED]:\n\u001b[1;32m    454\u001b[0m     \u001b[39mraise\u001b[39;00m CancelledError()\n",
      "File \u001b[0;32m/usr/local/lib/python3.11/threading.py:320\u001b[0m, in \u001b[0;36mCondition.wait\u001b[0;34m(self, timeout)\u001b[0m\n\u001b[1;32m    318\u001b[0m \u001b[39mtry\u001b[39;00m:    \u001b[39m# restore state no matter what (e.g., KeyboardInterrupt)\u001b[39;00m\n\u001b[1;32m    319\u001b[0m     \u001b[39mif\u001b[39;00m timeout \u001b[39mis\u001b[39;00m \u001b[39mNone\u001b[39;00m:\n\u001b[0;32m--> 320\u001b[0m         waiter\u001b[39m.\u001b[39;49macquire()\n\u001b[1;32m    321\u001b[0m         gotit \u001b[39m=\u001b[39m \u001b[39mTrue\u001b[39;00m\n\u001b[1;32m    322\u001b[0m     \u001b[39melse\u001b[39;00m:\n",
      "\u001b[0;31mKeyboardInterrupt\u001b[0m: "
     ]
    }
   ],
   "source": [
    "from ast import arg\n",
    "import concurrent.futures\n",
    "from concurrent.futures import thread\n",
    "import multiprocessing\n",
    "import time\n",
    "class Worker:\n",
    "    def __init__(self) -> None:\n",
    "        self.last_v = -1\n",
    "        m = multiprocessing.Manager()\n",
    "        self.lock = m.Lock()\n",
    "        pass\n",
    "    def do(self, v):      \n",
    "      self.last_v = v\n",
    "      with self.lock:\n",
    "        print(f\"v:{v}\\n\")\n",
    "        time.sleep(v)      \n",
    "        print(f\"v:{v} last_v:{self.last_v}\\n\")\n",
    "        return v * self.last_v\n",
    "      \n",
    "\n",
    "input_arr = [1,2,3,4,5,6]\n",
    "result = []\n",
    "worker = Worker()\n",
    "with concurrent.futures.ProcessPoolExecutor(max_workers=3) as executor:\n",
    "    new_result = list(executor.map(worker.do, input_arr))\n",
    "result.extend(new_result)\n",
    "result"
   ]
  },
  {
   "cell_type": "code",
   "execution_count": 2,
   "metadata": {},
   "outputs": [
    {
     "name": "stdout",
     "output_type": "stream",
     "text": [
      "start:  \tthread_id:63234\tlast_v:0\tv:2\n",
      "\n",
      "changed:\tthread_id:63234\tlast_v:2\tv:2\n",
      "\n"
     ]
    },
    {
     "name": "stdout",
     "output_type": "stream",
     "text": [
      "sleeped:\tthread_id:63234\tlast_v:2\tv:2\n",
      "\n",
      "start:  \tthread_id:63232\tlast_v:0\tv:1\n",
      "\n",
      "changed:\tthread_id:63232\tlast_v:1\tv:1\n",
      "\n",
      "sleeped:\tthread_id:63232\tlast_v:1\tv:1\n",
      "\n",
      "start:  \tthread_id:63236\tlast_v:0\tv:3\n",
      "\n",
      "changed:\tthread_id:63236\tlast_v:3\tv:3\n",
      "\n",
      "sleeped:\tthread_id:63236\tlast_v:3\tv:3\n",
      "\n",
      "start:  \tthread_id:63234\tlast_v:0\tv:4\n",
      "\n",
      "changed:\tthread_id:63234\tlast_v:4\tv:4\n",
      "\n",
      "sleeped:\tthread_id:63234\tlast_v:4\tv:4\n",
      "\n",
      "start:  \tthread_id:63232\tlast_v:0\tv:5\n",
      "\n",
      "changed:\tthread_id:63232\tlast_v:5\tv:5\n",
      "\n",
      "sleeped:\tthread_id:63232\tlast_v:5\tv:5\n",
      "\n",
      "start:  \tthread_id:63236\tlast_v:0\tv:6\n",
      "\n",
      "changed:\tthread_id:63236\tlast_v:6\tv:6\n",
      "\n",
      "sleeped:\tthread_id:63236\tlast_v:6\tv:6\n",
      "\n"
     ]
    },
    {
     "data": {
      "text/plain": [
       "[1, 4, 9, 16, 25, 36]"
      ]
     },
     "execution_count": 2,
     "metadata": {},
     "output_type": "execute_result"
    }
   ],
   "source": [
    "from ast import arg\n",
    "import concurrent.futures\n",
    "from concurrent.futures import thread\n",
    "import multiprocessing\n",
    "import time\n",
    "class Worker:\n",
    "    def __init__(self) -> None:\n",
    "        self.last_v = 0\n",
    "        pass\n",
    "    def do(self, args):\n",
    "      v = args[0]\n",
    "      lock = args[1]\n",
    "      thread_id = multiprocessing.current_process().ident\n",
    "      with lock:\n",
    "        print(f\"start:  \\tthread_id:{thread_id }\\tlast_v:{self.last_v}\\tv:{v}\\n\")\n",
    "        self.last_v = v + self.last_v\n",
    "        print(f\"changed:\\tthread_id:{thread_id }\\tlast_v:{self.last_v}\\tv:{v}\\n\")\n",
    "        time.sleep(v)      \n",
    "        print(f\"sleeped:\\tthread_id:{thread_id }\\tlast_v:{self.last_v}\\tv:{v}\\n\")\n",
    "        return v * self.last_v\n",
    "      \n",
    "m = multiprocessing.Manager()\n",
    "lock = m.Lock()\n",
    "\n",
    "input_arr = [(v,lock) for v in [1,2,3,4,5,6]]\n",
    "result = []\n",
    "worker = Worker()\n",
    "with concurrent.futures.ProcessPoolExecutor(max_workers=3) as executor:\n",
    "    new_result = list(executor.map(worker.do, input_arr))\n",
    "result.extend(new_result)\n",
    "result"
   ]
  },
  {
   "cell_type": "code",
   "execution_count": 21,
   "metadata": {},
   "outputs": [
    {
     "name": "stdout",
     "output_type": "stream",
     "text": [
      "Thread ID: 140204492969728\n"
     ]
    }
   ],
   "source": [
    "import threading\n",
    "\n",
    "def my_function():\n",
    "    print(\"Thread ID:\", threading.get_ident())\n",
    "\n",
    "# Create and start a new thread\n",
    "my_thread = threading.Thread(target=my_function)\n",
    "my_thread.start()"
   ]
  },
  {
   "cell_type": "code",
   "execution_count": 2,
   "metadata": {},
   "outputs": [
    {
     "name": "stdout",
     "output_type": "stream",
     "text": [
      "[2, 4, 6, 8, 10]\n"
     ]
    }
   ],
   "source": [
    "import concurrent.futures\n",
    "\n",
    "# Your function that will be executed in parallel\n",
    "def do(x):\n",
    "    return x * 2\n",
    "\n",
    "# List of arguments for the function\n",
    "args_list = [1, 2, 3, 4, 5]\n",
    "\n",
    "with concurrent.futures.ProcessPoolExecutor() as executor:\n",
    "    # map() applies the do() function to each item in args_list in parallel\n",
    "    futures = [executor.submit(do, x) for x in args_list]\n",
    "\n",
    "# Wait for all the futures to complete\n",
    "concurrent.futures.wait(futures)\n",
    "\n",
    "# Collect the results\n",
    "results = [future.result() for future in futures]\n",
    "print(results)  # Output: [2, 4, 6, 8, 10]\n"
   ]
  },
  {
   "cell_type": "code",
   "execution_count": 2,
   "metadata": {},
   "outputs": [],
   "source": [
    "from src import testing_report\n",
    "import src.strategy.run_config as cfg\n",
    "from src.strategy.run_report import  absRunReportFactory\n",
    "from src.strategy.run_report.run_report import RunReport\n",
    "from src.testing_report import TestingReport \n",
    "from datetime import datetime\n",
    "from src.strategy.deal import Deal\n",
    "\n",
    "si = cfg.StrategyId(\"test\", \"1.0\")\n",
    "\n",
    "# test set 1\n",
    "sc_set1 = cfg.StrategyConfig({\"P1\": 1,\"P2\": 2})\n",
    "rc1 = cfg.RunConfig(\n",
    "    cfg.MarketConfig([cfg.StockConfig(\"S1\", cfg.TimeFrame.D)],cfg.TimeFrame.D, cfg.date(2020, 1, 1), cfg.date(2021, 1, 1)),\n",
    "    sc_set1)\n",
    "cap1 = {\n",
    "  datetime(2020,1,1):100.0,\n",
    "  datetime(2020,1,2):102\n",
    "}\n",
    "deal_list1 = [\n",
    "  Deal(datetime(2020,1,1),100,datetime(2020,1,10),120,1,100),\n",
    "  Deal(datetime(2020,1,10),120,None,90,-1,120)\n",
    "]\n",
    "rr = RunReport(si, rc1, cap1,deal_list1)\n",
    "tr = TestingReport([rr])\n"
   ]
  },
  {
   "cell_type": "code",
   "execution_count": 8,
   "metadata": {},
   "outputs": [],
   "source": [
    "import src.strategy.run_config as rcfg\n",
    "import pandas as pd\n",
    "\n",
    "level_cut = 3\n",
    "df_rec = []\n",
    "for rr in tr.run_report_list:\n",
    "    rr_dict = rr.to_dict()\n",
    "    del rr_dict[\"abs_cap_log\"]\n",
    "    del rr_dict[\"deal_list\"]\n",
    "    flat_dict = TestingReport.flatten_dict(rr_dict)\n",
    "    \n",
    "    df_dict = {}\n",
    "    for k,v in flat_dict.items():\n",
    "        if len(k) == 2 and k[0]==\"strategy_id\":\n",
    "            df_dict[(\"startegy\", k[0],k[1])] = v\n",
    "        else:\n",
    "            df_dict[k]=v\n",
    "    \n",
    "    cutted_flat_dict = TestingReport.cut_level(df_dict, level_cut)\n",
    "    df_rec.append(cutted_flat_dict)\n",
    "\n"
   ]
  },
  {
   "cell_type": "code",
   "execution_count": 13,
   "metadata": {},
   "outputs": [
    {
     "data": {
      "text/plain": [
       "{('startegy', 'strategy_id', 'name'): 'test',\n",
       " ('startegy', 'strategy_id', 'v'): '1.0',\n",
       " ('run_config', 'market_cfg', 'stocks', '0', 'ticker'): 'S1',\n",
       " ('run_config', 'market_cfg', 'stocks', '0', 'timeframe'): 'D',\n",
       " ('run_config', 'market_cfg', 'step_timeframe'): 'D',\n",
       " ('run_config', 'market_cfg', 'from_date'): datetime.date(2020, 1, 1),\n",
       " ('run_config', 'market_cfg', 'untill_date'): datetime.date(2021, 1, 1),\n",
       " ('run_config', 'strategy_cfg', 'P1'): 1,\n",
       " ('run_config', 'strategy_cfg', 'P2'): 2,\n",
       " ('metric', 'capital', 'yield'): 0.020000000000000018,\n",
       " ('metric', 'capital', 'yield/year'): 0.019944813843109976,\n",
       " ('metric', 'capital', 'max_yield'): 0.020000000000000018,\n",
       " ('metric', 'capital', 'max_fall'): 0,\n",
       " ('metric', 'deals', 'deal_count'): 2,\n",
       " ('metric', 'deals', 'success_deal_count'): 2,\n",
       " ('metric', 'deals', 'fail_deal_count'): 0,\n",
       " ('metric', 'deals', 'avg_net_profit'): 0.225,\n",
       " ('metric', 'deals', 'avg_net_income'): 0.225,\n",
       " ('metric', 'deals', 'avg_net_loss'): 0,\n",
       " ('metric', 'deals', 'PROM'): 0.2928932188134524}"
      ]
     },
     "execution_count": 13,
     "metadata": {},
     "output_type": "execute_result"
    }
   ],
   "source": []
  },
  {
   "cell_type": "code",
   "execution_count": 9,
   "metadata": {},
   "outputs": [
    {
     "data": {
      "text/plain": [
       "{('strategy_id', 'name'): 'test',\n",
       " ('strategy_id', 'v'): '1.0',\n",
       " ('run_config', 'market_cfg', 'stocks_0_ticker'): 'S1',\n",
       " ('run_config', 'market_cfg', 'stocks_0_timeframe'): 'D',\n",
       " ('run_config', 'market_cfg', 'step_timeframe'): 'D',\n",
       " ('run_config', 'market_cfg', 'from_date'): datetime.date(2020, 1, 1),\n",
       " ('run_config', 'market_cfg', 'untill_date'): datetime.date(2021, 1, 1),\n",
       " ('run_config', 'strategy_cfg', 'P1'): 1,\n",
       " ('run_config', 'strategy_cfg', 'P2'): 2,\n",
       " ('metric', 'capital', 'yield'): 0.020000000000000018,\n",
       " ('metric', 'capital', 'yield/year'): 0.019944813843109976,\n",
       " ('metric', 'capital', 'max_yield'): 0.020000000000000018,\n",
       " ('metric', 'capital', 'max_fall'): 0,\n",
       " ('metric', 'deals', 'deal_count'): 2,\n",
       " ('metric', 'deals', 'success_deal_count'): 2,\n",
       " ('metric', 'deals', 'fail_deal_count'): 0,\n",
       " ('metric', 'deals', 'avg_net_profit'): 0.225,\n",
       " ('metric', 'deals', 'avg_net_income'): 0.225,\n",
       " ('metric', 'deals', 'avg_net_loss'): 0,\n",
       " ('metric', 'deals', 'PROM'): 0.2928932188134524}"
      ]
     },
     "execution_count": 9,
     "metadata": {},
     "output_type": "execute_result"
    }
   ],
   "source": [
    "cutted_flat_dict "
   ]
  },
  {
   "cell_type": "code",
   "execution_count": 10,
   "metadata": {},
   "outputs": [
    {
     "data": {
      "text/html": [
       "<div>\n",
       "<style scoped>\n",
       "    .dataframe tbody tr th:only-of-type {\n",
       "        vertical-align: middle;\n",
       "    }\n",
       "\n",
       "    .dataframe tbody tr th {\n",
       "        vertical-align: top;\n",
       "    }\n",
       "\n",
       "    .dataframe thead th {\n",
       "        text-align: right;\n",
       "    }\n",
       "</style>\n",
       "<table border=\"1\" class=\"dataframe\">\n",
       "  <thead>\n",
       "    <tr style=\"text-align: right;\">\n",
       "      <th></th>\n",
       "      <th>(strategy_id, name)</th>\n",
       "      <th>(strategy_id, v)</th>\n",
       "      <th>(run_config, market_cfg, stocks_0_ticker)</th>\n",
       "      <th>(run_config, market_cfg, stocks_0_timeframe)</th>\n",
       "      <th>(run_config, market_cfg, step_timeframe)</th>\n",
       "      <th>(run_config, market_cfg, from_date)</th>\n",
       "      <th>(run_config, market_cfg, untill_date)</th>\n",
       "      <th>(run_config, strategy_cfg, P1)</th>\n",
       "      <th>(run_config, strategy_cfg, P2)</th>\n",
       "      <th>(metric, capital, yield)</th>\n",
       "      <th>(metric, capital, yield/year)</th>\n",
       "      <th>(metric, capital, max_yield)</th>\n",
       "      <th>(metric, capital, max_fall)</th>\n",
       "      <th>(metric, deals, deal_count)</th>\n",
       "      <th>(metric, deals, success_deal_count)</th>\n",
       "      <th>(metric, deals, fail_deal_count)</th>\n",
       "      <th>(metric, deals, avg_net_profit)</th>\n",
       "      <th>(metric, deals, avg_net_income)</th>\n",
       "      <th>(metric, deals, avg_net_loss)</th>\n",
       "      <th>(metric, deals, PROM)</th>\n",
       "    </tr>\n",
       "  </thead>\n",
       "  <tbody>\n",
       "    <tr>\n",
       "      <th>0</th>\n",
       "      <td>test</td>\n",
       "      <td>1.0</td>\n",
       "      <td>S1</td>\n",
       "      <td>D</td>\n",
       "      <td>D</td>\n",
       "      <td>2020-01-01</td>\n",
       "      <td>2021-01-01</td>\n",
       "      <td>1</td>\n",
       "      <td>2</td>\n",
       "      <td>0.02</td>\n",
       "      <td>0.019945</td>\n",
       "      <td>0.02</td>\n",
       "      <td>0</td>\n",
       "      <td>2</td>\n",
       "      <td>2</td>\n",
       "      <td>0</td>\n",
       "      <td>0.225</td>\n",
       "      <td>0.225</td>\n",
       "      <td>0</td>\n",
       "      <td>0.292893</td>\n",
       "    </tr>\n",
       "  </tbody>\n",
       "</table>\n",
       "</div>"
      ],
      "text/plain": [
       "  (strategy_id, name) (strategy_id, v)  \\\n",
       "0                test              1.0   \n",
       "\n",
       "  (run_config, market_cfg, stocks_0_ticker)  \\\n",
       "0                                        S1   \n",
       "\n",
       "  (run_config, market_cfg, stocks_0_timeframe)  \\\n",
       "0                                            D   \n",
       "\n",
       "  (run_config, market_cfg, step_timeframe)  \\\n",
       "0                                        D   \n",
       "\n",
       "  (run_config, market_cfg, from_date) (run_config, market_cfg, untill_date)  \\\n",
       "0                          2020-01-01                            2021-01-01   \n",
       "\n",
       "   (run_config, strategy_cfg, P1)  (run_config, strategy_cfg, P2)  \\\n",
       "0                               1                               2   \n",
       "\n",
       "   (metric, capital, yield)  (metric, capital, yield/year)  \\\n",
       "0                      0.02                       0.019945   \n",
       "\n",
       "   (metric, capital, max_yield)  (metric, capital, max_fall)  \\\n",
       "0                          0.02                            0   \n",
       "\n",
       "   (metric, deals, deal_count)  (metric, deals, success_deal_count)  \\\n",
       "0                            2                                    2   \n",
       "\n",
       "   (metric, deals, fail_deal_count)  (metric, deals, avg_net_profit)  \\\n",
       "0                                 0                            0.225   \n",
       "\n",
       "   (metric, deals, avg_net_income)  (metric, deals, avg_net_loss)  \\\n",
       "0                            0.225                              0   \n",
       "\n",
       "   (metric, deals, PROM)  \n",
       "0               0.292893  "
      ]
     },
     "execution_count": 10,
     "metadata": {},
     "output_type": "execute_result"
    }
   ],
   "source": [
    "df = pd.DataFrame.from_records(df_rec)\n",
    "df"
   ]
  },
  {
   "cell_type": "code",
   "execution_count": null,
   "metadata": {},
   "outputs": [],
   "source": [
    "df = pd.DataFrame.from_records(df_rec)\n",
    "df.columns = pd.MultiIndex.from_tuples(df.columns)\n",
    "# drop const values\n",
    "df.drop([RunReport.STRATEGY_ID_F],axis=1,inplace=True)\n",
    "df"
   ]
  },
  {
   "cell_type": "code",
   "execution_count": 6,
   "metadata": {},
   "outputs": [
    {
     "data": {
      "text/plain": [
       "[('run_config', 'market_cfg', 'stocks_0_ticker'),\n",
       " ('run_config', 'market_cfg', 'stocks_0_timeframe'),\n",
       " ('run_config', 'market_cfg', 'step_timeframe')]"
      ]
     },
     "execution_count": 6,
     "metadata": {},
     "output_type": "execute_result"
    }
   ],
   "source": [
    "# join ticker cols\n",
    "ticker_cols = [(RunReport.RUN_CONFIG_F, rcfg.RunConfig.MARKET_CFG_F, m) for m in  [\"stocks_0_ticker\",\t\"stocks_0_timeframe\", rcfg.MarketConfig.STEP_TF_F]]\n",
    "ticker_cols"
   ]
  },
  {
   "cell_type": "code",
   "execution_count": 4,
   "metadata": {},
   "outputs": [
    {
     "ename": "ValueError",
     "evalue": "Item must have length equal to number of levels.",
     "output_type": "error",
     "traceback": [
      "\u001b[0;31m---------------------------------------------------------------------------\u001b[0m",
      "\u001b[0;31mKeyError\u001b[0m                                  Traceback (most recent call last)",
      "File \u001b[0;32m~/.local/lib/python3.11/site-packages/pandas/core/frame.py:4261\u001b[0m, in \u001b[0;36mDataFrame._set_item_mgr\u001b[0;34m(self, key, value, refs)\u001b[0m\n\u001b[1;32m   4260\u001b[0m \u001b[39mtry\u001b[39;00m:\n\u001b[0;32m-> 4261\u001b[0m     loc \u001b[39m=\u001b[39m \u001b[39mself\u001b[39;49m\u001b[39m.\u001b[39;49m_info_axis\u001b[39m.\u001b[39;49mget_loc(key)\n\u001b[1;32m   4262\u001b[0m \u001b[39mexcept\u001b[39;00m \u001b[39mKeyError\u001b[39;00m:\n\u001b[1;32m   4263\u001b[0m     \u001b[39m# This item wasn't present, just insert at end\u001b[39;00m\n",
      "File \u001b[0;32m~/.local/lib/python3.11/site-packages/pandas/core/indexes/multi.py:2930\u001b[0m, in \u001b[0;36mMultiIndex.get_loc\u001b[0;34m(self, key)\u001b[0m\n\u001b[1;32m   2929\u001b[0m \u001b[39mif\u001b[39;00m \u001b[39mself\u001b[39m\u001b[39m.\u001b[39mnlevels \u001b[39m<\u001b[39m keylen:\n\u001b[0;32m-> 2930\u001b[0m     \u001b[39mraise\u001b[39;00m \u001b[39mKeyError\u001b[39;00m(\n\u001b[1;32m   2931\u001b[0m         \u001b[39mf\u001b[39m\u001b[39m\"\u001b[39m\u001b[39mKey length (\u001b[39m\u001b[39m{\u001b[39;00mkeylen\u001b[39m}\u001b[39;00m\u001b[39m) exceeds index depth (\u001b[39m\u001b[39m{\u001b[39;00m\u001b[39mself\u001b[39m\u001b[39m.\u001b[39mnlevels\u001b[39m}\u001b[39;00m\u001b[39m)\u001b[39m\u001b[39m\"\u001b[39m\n\u001b[1;32m   2932\u001b[0m     )\n\u001b[1;32m   2934\u001b[0m \u001b[39mif\u001b[39;00m keylen \u001b[39m==\u001b[39m \u001b[39mself\u001b[39m\u001b[39m.\u001b[39mnlevels \u001b[39mand\u001b[39;00m \u001b[39mself\u001b[39m\u001b[39m.\u001b[39mis_unique:\n\u001b[1;32m   2935\u001b[0m     \u001b[39m# TODO: what if we have an IntervalIndex level?\u001b[39;00m\n\u001b[1;32m   2936\u001b[0m     \u001b[39m#  i.e. do we need _index_as_unique on that level?\u001b[39;00m\n",
      "\u001b[0;31mKeyError\u001b[0m: 'Key length (3) exceeds index depth (2)'",
      "\nDuring handling of the above exception, another exception occurred:\n",
      "\u001b[0;31mValueError\u001b[0m                                Traceback (most recent call last)",
      "\u001b[1;32m/workspaces/StrategyTesterOptimizer/test/sandbox.ipynb Cell 20\u001b[0m line \u001b[0;36m5\n\u001b[1;32m      <a href='vscode-notebook-cell://dev-container%2B7b22686f737450617468223a222f686f6d652f696e736f6e75736b2f4d7950726f6772616d732f4e4e54726164652f53747261746567795465737465724f7074696d697a6572222c226c6f63616c446f636b6572223a66616c73652c22636f6e66696746696c65223a7b22246d6964223a312c2270617468223a222f686f6d652f696e736f6e75736b2f4d7950726f6772616d732f4e4e54726164652f53747261746567795465737465724f7074696d697a65722f2e646576636f6e7461696e65722f646576636f6e7461696e65722e6a736f6e222c22736368656d65223a227673636f64652d66696c65486f7374227d7d@ssh-remote%2B7b22686f73744e616d65223a2241697572227d/workspaces/StrategyTesterOptimizer/test/sandbox.ipynb#X25sdnNjb2RlLXJlbW90ZQ%3D%3D?line=2'>3</a>\u001b[0m \u001b[39m# join ticker cols\u001b[39;00m\n\u001b[1;32m      <a href='vscode-notebook-cell://dev-container%2B7b22686f737450617468223a222f686f6d652f696e736f6e75736b2f4d7950726f6772616d732f4e4e54726164652f53747261746567795465737465724f7074696d697a6572222c226c6f63616c446f636b6572223a66616c73652c22636f6e66696746696c65223a7b22246d6964223a312c2270617468223a222f686f6d652f696e736f6e75736b2f4d7950726f6772616d732f4e4e54726164652f53747261746567795465737465724f7074696d697a65722f2e646576636f6e7461696e65722f646576636f6e7461696e65722e6a736f6e222c22736368656d65223a227673636f64652d66696c65486f7374227d7d@ssh-remote%2B7b22686f73744e616d65223a2241697572227d/workspaces/StrategyTesterOptimizer/test/sandbox.ipynb#X25sdnNjb2RlLXJlbW90ZQ%3D%3D?line=3'>4</a>\u001b[0m ticker_cols \u001b[39m=\u001b[39m [(RunReport\u001b[39m.\u001b[39mRUN_CONFIG_F, rcfg\u001b[39m.\u001b[39mRunConfig\u001b[39m.\u001b[39mMARKET_CFG_F, m) \u001b[39mfor\u001b[39;00m m \u001b[39min\u001b[39;00m  [\u001b[39m\"\u001b[39m\u001b[39mstocks_0_ticker\u001b[39m\u001b[39m\"\u001b[39m,\t\u001b[39m\"\u001b[39m\u001b[39mstocks_0_timeframe\u001b[39m\u001b[39m\"\u001b[39m, rcfg\u001b[39m.\u001b[39mMarketConfig\u001b[39m.\u001b[39mSTEP_TF_F]]\n\u001b[0;32m----> <a href='vscode-notebook-cell://dev-container%2B7b22686f737450617468223a222f686f6d652f696e736f6e75736b2f4d7950726f6772616d732f4e4e54726164652f53747261746567795465737465724f7074696d697a6572222c226c6f63616c446f636b6572223a66616c73652c22636f6e66696746696c65223a7b22246d6964223a312c2270617468223a222f686f6d652f696e736f6e75736b2f4d7950726f6772616d732f4e4e54726164652f53747261746567795465737465724f7074696d697a65722f2e646576636f6e7461696e65722f646576636f6e7461696e65722e6a736f6e222c22736368656d65223a227673636f64652d66696c65486f7374227d7d@ssh-remote%2B7b22686f73744e616d65223a2241697572227d/workspaces/StrategyTesterOptimizer/test/sandbox.ipynb#X25sdnNjb2RlLXJlbW90ZQ%3D%3D?line=4'>5</a>\u001b[0m df[(RunReport\u001b[39m.\u001b[39;49mRUN_CONFIG_F, rcfg\u001b[39m.\u001b[39;49mRunConfig\u001b[39m.\u001b[39;49mMARKET_CFG_F,\u001b[39m\"\u001b[39;49m\u001b[39mfull_ticker\u001b[39;49m\u001b[39m\"\u001b[39;49m)] \u001b[39m=\u001b[39m df[[(RunReport\u001b[39m.\u001b[39mRUN_CONFIG_F, rcfg\u001b[39m.\u001b[39mRunConfig\u001b[39m.\u001b[39mMARKET_CFG_F, m) \u001b[39mfor\u001b[39;00m m \u001b[39min\u001b[39;00m  [\u001b[39m\"\u001b[39m\u001b[39mstocks_0_ticker\u001b[39m\u001b[39m\"\u001b[39m,\t\u001b[39m\"\u001b[39m\u001b[39mstocks_0_timeframe\u001b[39m\u001b[39m\"\u001b[39m,rcfg\u001b[39m.\u001b[39mMarketConfig\u001b[39m.\u001b[39mSTEP_TF_F]]]\u001b[39m.\u001b[39mapply(\u001b[39mlambda\u001b[39;00m row: \u001b[39m'\u001b[39m\u001b[39m:\u001b[39m\u001b[39m'\u001b[39m\u001b[39m.\u001b[39mjoin(\u001b[39mmap\u001b[39m(\u001b[39mstr\u001b[39m, row)), axis\u001b[39m=\u001b[39m\u001b[39m1\u001b[39m)\n\u001b[1;32m      <a href='vscode-notebook-cell://dev-container%2B7b22686f737450617468223a222f686f6d652f696e736f6e75736b2f4d7950726f6772616d732f4e4e54726164652f53747261746567795465737465724f7074696d697a6572222c226c6f63616c446f636b6572223a66616c73652c22636f6e66696746696c65223a7b22246d6964223a312c2270617468223a222f686f6d652f696e736f6e75736b2f4d7950726f6772616d732f4e4e54726164652f53747261746567795465737465724f7074696d697a65722f2e646576636f6e7461696e65722f646576636f6e7461696e65722e6a736f6e222c22736368656d65223a227673636f64652d66696c65486f7374227d7d@ssh-remote%2B7b22686f73744e616d65223a2241697572227d/workspaces/StrategyTesterOptimizer/test/sandbox.ipynb#X25sdnNjb2RlLXJlbW90ZQ%3D%3D?line=5'>6</a>\u001b[0m df\u001b[39m.\u001b[39mdrop(ticker_cols, axis\u001b[39m=\u001b[39m\u001b[39m1\u001b[39m,inplace\u001b[39m=\u001b[39m\u001b[39mTrue\u001b[39;00m)\n\u001b[1;32m      <a href='vscode-notebook-cell://dev-container%2B7b22686f737450617468223a222f686f6d652f696e736f6e75736b2f4d7950726f6772616d732f4e4e54726164652f53747261746567795465737465724f7074696d697a6572222c226c6f63616c446f636b6572223a66616c73652c22636f6e66696746696c65223a7b22246d6964223a312c2270617468223a222f686f6d652f696e736f6e75736b2f4d7950726f6772616d732f4e4e54726164652f53747261746567795465737465724f7074696d697a65722f2e646576636f6e7461696e65722f646576636f6e7461696e65722e6a736f6e222c22736368656d65223a227673636f64652d66696c65486f7374227d7d@ssh-remote%2B7b22686f73744e616d65223a2241697572227d/workspaces/StrategyTesterOptimizer/test/sandbox.ipynb#X25sdnNjb2RlLXJlbW90ZQ%3D%3D?line=6'>7</a>\u001b[0m \u001b[39m# set index\u001b[39;00m\n",
      "File \u001b[0;32m~/.local/lib/python3.11/site-packages/pandas/core/frame.py:4091\u001b[0m, in \u001b[0;36mDataFrame.__setitem__\u001b[0;34m(self, key, value)\u001b[0m\n\u001b[1;32m   4088\u001b[0m     \u001b[39mself\u001b[39m\u001b[39m.\u001b[39m_setitem_array([key], value)\n\u001b[1;32m   4089\u001b[0m \u001b[39melse\u001b[39;00m:\n\u001b[1;32m   4090\u001b[0m     \u001b[39m# set column\u001b[39;00m\n\u001b[0;32m-> 4091\u001b[0m     \u001b[39mself\u001b[39;49m\u001b[39m.\u001b[39;49m_set_item(key, value)\n",
      "File \u001b[0;32m~/.local/lib/python3.11/site-packages/pandas/core/frame.py:4314\u001b[0m, in \u001b[0;36mDataFrame._set_item\u001b[0;34m(self, key, value)\u001b[0m\n\u001b[1;32m   4311\u001b[0m             value \u001b[39m=\u001b[39m np\u001b[39m.\u001b[39mtile(value, (\u001b[39mlen\u001b[39m(existing_piece\u001b[39m.\u001b[39mcolumns), \u001b[39m1\u001b[39m))\u001b[39m.\u001b[39mT\n\u001b[1;32m   4312\u001b[0m             refs \u001b[39m=\u001b[39m \u001b[39mNone\u001b[39;00m\n\u001b[0;32m-> 4314\u001b[0m \u001b[39mself\u001b[39;49m\u001b[39m.\u001b[39;49m_set_item_mgr(key, value, refs)\n",
      "File \u001b[0;32m~/.local/lib/python3.11/site-packages/pandas/core/frame.py:4264\u001b[0m, in \u001b[0;36mDataFrame._set_item_mgr\u001b[0;34m(self, key, value, refs)\u001b[0m\n\u001b[1;32m   4261\u001b[0m     loc \u001b[39m=\u001b[39m \u001b[39mself\u001b[39m\u001b[39m.\u001b[39m_info_axis\u001b[39m.\u001b[39mget_loc(key)\n\u001b[1;32m   4262\u001b[0m \u001b[39mexcept\u001b[39;00m \u001b[39mKeyError\u001b[39;00m:\n\u001b[1;32m   4263\u001b[0m     \u001b[39m# This item wasn't present, just insert at end\u001b[39;00m\n\u001b[0;32m-> 4264\u001b[0m     \u001b[39mself\u001b[39;49m\u001b[39m.\u001b[39;49m_mgr\u001b[39m.\u001b[39;49minsert(\u001b[39mlen\u001b[39;49m(\u001b[39mself\u001b[39;49m\u001b[39m.\u001b[39;49m_info_axis), key, value, refs)\n\u001b[1;32m   4265\u001b[0m \u001b[39melse\u001b[39;00m:\n\u001b[1;32m   4266\u001b[0m     \u001b[39mself\u001b[39m\u001b[39m.\u001b[39m_iset_item_mgr(loc, value, refs\u001b[39m=\u001b[39mrefs)\n",
      "File \u001b[0;32m~/.local/lib/python3.11/site-packages/pandas/core/internals/managers.py:1323\u001b[0m, in \u001b[0;36mBlockManager.insert\u001b[0;34m(self, loc, item, value, refs)\u001b[0m\n\u001b[1;32m   1312\u001b[0m \u001b[39m\u001b[39m\u001b[39m\"\"\"\u001b[39;00m\n\u001b[1;32m   1313\u001b[0m \u001b[39mInsert item at selected position.\u001b[39;00m\n\u001b[1;32m   1314\u001b[0m \n\u001b[0;32m   (...)\u001b[0m\n\u001b[1;32m   1320\u001b[0m \u001b[39mrefs : The reference tracking object of the value to set.\u001b[39;00m\n\u001b[1;32m   1321\u001b[0m \u001b[39m\"\"\"\u001b[39;00m\n\u001b[1;32m   1322\u001b[0m \u001b[39m# insert to the axis; this could possibly raise a TypeError\u001b[39;00m\n\u001b[0;32m-> 1323\u001b[0m new_axis \u001b[39m=\u001b[39m \u001b[39mself\u001b[39;49m\u001b[39m.\u001b[39;49mitems\u001b[39m.\u001b[39;49minsert(loc, item)\n\u001b[1;32m   1325\u001b[0m \u001b[39mif\u001b[39;00m value\u001b[39m.\u001b[39mndim \u001b[39m==\u001b[39m \u001b[39m2\u001b[39m:\n\u001b[1;32m   1326\u001b[0m     value \u001b[39m=\u001b[39m value\u001b[39m.\u001b[39mT\n",
      "File \u001b[0;32m~/.local/lib/python3.11/site-packages/pandas/core/indexes/multi.py:3832\u001b[0m, in \u001b[0;36mMultiIndex.insert\u001b[0;34m(self, loc, item)\u001b[0m\n\u001b[1;32m   3818\u001b[0m \u001b[39mdef\u001b[39;00m \u001b[39minsert\u001b[39m(\u001b[39mself\u001b[39m, loc: \u001b[39mint\u001b[39m, item) \u001b[39m-\u001b[39m\u001b[39m>\u001b[39m MultiIndex:\n\u001b[1;32m   3819\u001b[0m \u001b[39m    \u001b[39m\u001b[39m\"\"\"\u001b[39;00m\n\u001b[1;32m   3820\u001b[0m \u001b[39m    Make new MultiIndex inserting new item at location\u001b[39;00m\n\u001b[1;32m   3821\u001b[0m \n\u001b[0;32m   (...)\u001b[0m\n\u001b[1;32m   3830\u001b[0m \u001b[39m    new_index : Index\u001b[39;00m\n\u001b[1;32m   3831\u001b[0m \u001b[39m    \"\"\"\u001b[39;00m\n\u001b[0;32m-> 3832\u001b[0m     item \u001b[39m=\u001b[39m \u001b[39mself\u001b[39;49m\u001b[39m.\u001b[39;49m_validate_fill_value(item)\n\u001b[1;32m   3834\u001b[0m     new_levels \u001b[39m=\u001b[39m []\n\u001b[1;32m   3835\u001b[0m     new_codes \u001b[39m=\u001b[39m []\n",
      "File \u001b[0;32m~/.local/lib/python3.11/site-packages/pandas/core/indexes/multi.py:3775\u001b[0m, in \u001b[0;36mMultiIndex._validate_fill_value\u001b[0;34m(self, item)\u001b[0m\n\u001b[1;32m   3773\u001b[0m     item \u001b[39m=\u001b[39m (item,) \u001b[39m+\u001b[39m (\u001b[39m\"\u001b[39m\u001b[39m\"\u001b[39m,) \u001b[39m*\u001b[39m (\u001b[39mself\u001b[39m\u001b[39m.\u001b[39mnlevels \u001b[39m-\u001b[39m \u001b[39m1\u001b[39m)\n\u001b[1;32m   3774\u001b[0m \u001b[39melif\u001b[39;00m \u001b[39mlen\u001b[39m(item) \u001b[39m!=\u001b[39m \u001b[39mself\u001b[39m\u001b[39m.\u001b[39mnlevels:\n\u001b[0;32m-> 3775\u001b[0m     \u001b[39mraise\u001b[39;00m \u001b[39mValueError\u001b[39;00m(\u001b[39m\"\u001b[39m\u001b[39mItem must have length equal to number of levels.\u001b[39m\u001b[39m\"\u001b[39m)\n\u001b[1;32m   3776\u001b[0m \u001b[39mreturn\u001b[39;00m item\n",
      "\u001b[0;31mValueError\u001b[0m: Item must have length equal to number of levels."
     ]
    }
   ],
   "source": [
    "df[(RunReport.RUN_CONFIG_F, rcfg.RunConfig.MARKET_CFG_F,\"full_ticker\")] = df[[(RunReport.RUN_CONFIG_F, rcfg.RunConfig.MARKET_CFG_F, m) for m in  [\"stocks_0_ticker\",\t\"stocks_0_timeframe\",rcfg.MarketConfig.STEP_TF_F]]].apply(lambda row: ':'.join(map(str, row)), axis=1)\n"
   ]
  },
  {
   "cell_type": "code",
   "execution_count": null,
   "metadata": {},
   "outputs": [],
   "source": [
    "df.drop(ticker_cols, axis=1,inplace=True)\n",
    "# set index\n",
    "df.set_index([c for c in df.columns if c[0] ==RunReport.RUN_CONFIG_F], inplace=True)\n",
    "# drop unused level\n",
    "df.index.names = [(n[1],n[2]) for n in  df.index.names] \n",
    "df.columns = df.columns.droplevel(0)\n",
    "df = df.reorder_levels([df.index.names[-1],*df.index.names[:-1]])\n",
    "df"
   ]
  }
 ],
 "metadata": {
  "kernelspec": {
   "display_name": "Python 3",
   "language": "python",
   "name": "python3"
  },
  "language_info": {
   "codemirror_mode": {
    "name": "ipython",
    "version": 3
   },
   "file_extension": ".py",
   "mimetype": "text/x-python",
   "name": "python",
   "nbconvert_exporter": "python",
   "pygments_lexer": "ipython3",
   "version": "3.11.2"
  }
 },
 "nbformat": 4,
 "nbformat_minor": 2
}
