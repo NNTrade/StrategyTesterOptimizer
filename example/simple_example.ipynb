{
 "cells": [
  {
   "cell_type": "markdown",
   "metadata": {},
   "source": [
    "# Set constants"
   ]
  },
  {
   "cell_type": "code",
   "execution_count": 2,
   "metadata": {},
   "outputs": [],
   "source": [
    "test_data_path = \"./tmp/test.csv\""
   ]
  },
  {
   "cell_type": "markdown",
   "metadata": {},
   "source": [
    "# Load test data"
   ]
  },
  {
   "cell_type": "code",
   "execution_count": 3,
   "metadata": {},
   "outputs": [],
   "source": [
    "import yfinance as yf\n",
    "import pandas as pd"
   ]
  },
  {
   "cell_type": "code",
   "execution_count": 4,
   "metadata": {},
   "outputs": [],
   "source": [
    "if 1 == 0:\n",
    "    data_df:pd.DataFrame =  yf.Ticker(\"EURUSD=X\").history(start=\"2023-01-01\",end=\"2024-01-01\", interval=\"1d\")\n",
    "    data_df.index = data_df.index.date\n",
    "    data_df.index.name = \"Date\"\n",
    "    data_df[\"High\"] = data_df[[\"Open\",\"High\",\"Low\",\"Close\"]].max(axis=1)\n",
    "    data_df[\"Low\"] = data_df[[\"Open\",\"High\",\"Low\",\"Close\"]].min(axis=1)\n",
    "    data_df[\"Volume\"] = 10000000\n",
    "    data_df.to_csv(test_data_path)"
   ]
  },
  {
   "cell_type": "code",
   "execution_count": 5,
   "metadata": {},
   "outputs": [
    {
     "data": {
      "text/html": [
       "<div>\n",
       "<style scoped>\n",
       "    .dataframe tbody tr th:only-of-type {\n",
       "        vertical-align: middle;\n",
       "    }\n",
       "\n",
       "    .dataframe tbody tr th {\n",
       "        vertical-align: top;\n",
       "    }\n",
       "\n",
       "    .dataframe thead th {\n",
       "        text-align: right;\n",
       "    }\n",
       "</style>\n",
       "<table border=\"1\" class=\"dataframe\">\n",
       "  <thead>\n",
       "    <tr style=\"text-align: right;\">\n",
       "      <th></th>\n",
       "      <th>Date</th>\n",
       "      <th>Open</th>\n",
       "      <th>High</th>\n",
       "      <th>Low</th>\n",
       "      <th>Close</th>\n",
       "      <th>Volume</th>\n",
       "      <th>Dividends</th>\n",
       "      <th>Stock Splits</th>\n",
       "    </tr>\n",
       "  </thead>\n",
       "  <tbody>\n",
       "    <tr>\n",
       "      <th>0</th>\n",
       "      <td>2023-01-02</td>\n",
       "      <td>1.070973</td>\n",
       "      <td>1.071237</td>\n",
       "      <td>1.065326</td>\n",
       "      <td>1.070973</td>\n",
       "      <td>10000000</td>\n",
       "      <td>0.0</td>\n",
       "      <td>0.0</td>\n",
       "    </tr>\n",
       "    <tr>\n",
       "      <th>1</th>\n",
       "      <td>2023-01-03</td>\n",
       "      <td>1.067771</td>\n",
       "      <td>1.068262</td>\n",
       "      <td>1.052155</td>\n",
       "      <td>1.067771</td>\n",
       "      <td>10000000</td>\n",
       "      <td>0.0</td>\n",
       "      <td>0.0</td>\n",
       "    </tr>\n",
       "    <tr>\n",
       "      <th>2</th>\n",
       "      <td>2023-01-04</td>\n",
       "      <td>1.054685</td>\n",
       "      <td>1.063151</td>\n",
       "      <td>1.054596</td>\n",
       "      <td>1.054685</td>\n",
       "      <td>10000000</td>\n",
       "      <td>0.0</td>\n",
       "      <td>0.0</td>\n",
       "    </tr>\n",
       "    <tr>\n",
       "      <th>3</th>\n",
       "      <td>2023-01-05</td>\n",
       "      <td>1.060637</td>\n",
       "      <td>1.063264</td>\n",
       "      <td>1.051558</td>\n",
       "      <td>1.060637</td>\n",
       "      <td>10000000</td>\n",
       "      <td>0.0</td>\n",
       "      <td>0.0</td>\n",
       "    </tr>\n",
       "    <tr>\n",
       "      <th>4</th>\n",
       "      <td>2023-01-06</td>\n",
       "      <td>1.052222</td>\n",
       "      <td>1.062225</td>\n",
       "      <td>1.048526</td>\n",
       "      <td>1.052222</td>\n",
       "      <td>10000000</td>\n",
       "      <td>0.0</td>\n",
       "      <td>0.0</td>\n",
       "    </tr>\n",
       "    <tr>\n",
       "      <th>...</th>\n",
       "      <td>...</td>\n",
       "      <td>...</td>\n",
       "      <td>...</td>\n",
       "      <td>...</td>\n",
       "      <td>...</td>\n",
       "      <td>...</td>\n",
       "      <td>...</td>\n",
       "      <td>...</td>\n",
       "    </tr>\n",
       "    <tr>\n",
       "      <th>255</th>\n",
       "      <td>2023-12-25</td>\n",
       "      <td>1.102657</td>\n",
       "      <td>1.104240</td>\n",
       "      <td>1.099989</td>\n",
       "      <td>1.102657</td>\n",
       "      <td>10000000</td>\n",
       "      <td>0.0</td>\n",
       "      <td>0.0</td>\n",
       "    </tr>\n",
       "    <tr>\n",
       "      <th>256</th>\n",
       "      <td>2023-12-26</td>\n",
       "      <td>1.102026</td>\n",
       "      <td>1.103997</td>\n",
       "      <td>1.100958</td>\n",
       "      <td>1.102026</td>\n",
       "      <td>10000000</td>\n",
       "      <td>0.0</td>\n",
       "      <td>0.0</td>\n",
       "    </tr>\n",
       "    <tr>\n",
       "      <th>257</th>\n",
       "      <td>2023-12-27</td>\n",
       "      <td>1.104301</td>\n",
       "      <td>1.112248</td>\n",
       "      <td>1.102925</td>\n",
       "      <td>1.104301</td>\n",
       "      <td>10000000</td>\n",
       "      <td>0.0</td>\n",
       "      <td>0.0</td>\n",
       "    </tr>\n",
       "    <tr>\n",
       "      <th>258</th>\n",
       "      <td>2023-12-28</td>\n",
       "      <td>1.110864</td>\n",
       "      <td>1.113945</td>\n",
       "      <td>1.107101</td>\n",
       "      <td>1.110864</td>\n",
       "      <td>10000000</td>\n",
       "      <td>0.0</td>\n",
       "      <td>0.0</td>\n",
       "    </tr>\n",
       "    <tr>\n",
       "      <th>259</th>\n",
       "      <td>2023-12-29</td>\n",
       "      <td>1.106819</td>\n",
       "      <td>1.108647</td>\n",
       "      <td>1.104326</td>\n",
       "      <td>1.106819</td>\n",
       "      <td>10000000</td>\n",
       "      <td>0.0</td>\n",
       "      <td>0.0</td>\n",
       "    </tr>\n",
       "  </tbody>\n",
       "</table>\n",
       "<p>260 rows × 8 columns</p>\n",
       "</div>"
      ],
      "text/plain": [
       "           Date      Open      High       Low     Close    Volume  Dividends  \\\n",
       "0    2023-01-02  1.070973  1.071237  1.065326  1.070973  10000000        0.0   \n",
       "1    2023-01-03  1.067771  1.068262  1.052155  1.067771  10000000        0.0   \n",
       "2    2023-01-04  1.054685  1.063151  1.054596  1.054685  10000000        0.0   \n",
       "3    2023-01-05  1.060637  1.063264  1.051558  1.060637  10000000        0.0   \n",
       "4    2023-01-06  1.052222  1.062225  1.048526  1.052222  10000000        0.0   \n",
       "..          ...       ...       ...       ...       ...       ...        ...   \n",
       "255  2023-12-25  1.102657  1.104240  1.099989  1.102657  10000000        0.0   \n",
       "256  2023-12-26  1.102026  1.103997  1.100958  1.102026  10000000        0.0   \n",
       "257  2023-12-27  1.104301  1.112248  1.102925  1.104301  10000000        0.0   \n",
       "258  2023-12-28  1.110864  1.113945  1.107101  1.110864  10000000        0.0   \n",
       "259  2023-12-29  1.106819  1.108647  1.104326  1.106819  10000000        0.0   \n",
       "\n",
       "     Stock Splits  \n",
       "0             0.0  \n",
       "1             0.0  \n",
       "2             0.0  \n",
       "3             0.0  \n",
       "4             0.0  \n",
       "..            ...  \n",
       "255           0.0  \n",
       "256           0.0  \n",
       "257           0.0  \n",
       "258           0.0  \n",
       "259           0.0  \n",
       "\n",
       "[260 rows x 8 columns]"
      ]
     },
     "execution_count": 5,
     "metadata": {},
     "output_type": "execute_result"
    }
   ],
   "source": [
    "data_df:pd.DataFrame = pd.read_csv(test_data_path)\n",
    "data_df"
   ]
  },
  {
   "cell_type": "markdown",
   "metadata": {},
   "source": [
    "# Set strategy"
   ]
  },
  {
   "cell_type": "code",
   "execution_count": 6,
   "metadata": {},
   "outputs": [],
   "source": [
    "from pyalgotrade import strategy\n",
    "from pyalgotrade.barfeed import quandlfeed\n",
    "from pyalgotrade.technical import ma\n",
    "from pyalgotrade.broker.backtesting import Broker\n",
    "from pyalgotrade.bar import BasicBar\n",
    "from pyalgotrade.strategy.position import LongPosition, Position, ShortPosition\n",
    "from pyalgotrade.broker import OrderExecutionInfo, Order"
   ]
  },
  {
   "cell_type": "code",
   "execution_count": 11,
   "metadata": {},
   "outputs": [],
   "source": [
    "class MyStrategy(strategy.BacktestingStrategy):\n",
    "    def __init__(self, feed, instrument):\n",
    "        super(MyStrategy, self).__init__(feed)\n",
    "        # We want a 15 period SMA over the closing prices.\n",
    "        self.__sma = ma.SMA(feed[instrument].getCloseDataSeries(), 15)\n",
    "        self.__instrument = instrument\n",
    "        self.__position:Position = None\n",
    "\n",
    "    def _action_to_stirng(self, action):\n",
    "        if action == Order.Action.BUY:\n",
    "            return \"BUY\"\n",
    "        elif action == Order.Action.SELL:\n",
    "            return \"SELL\"\n",
    "        elif action == Order.Action.SELL_SHORT:\n",
    "            return \"SELL_SHORT\"\n",
    "        elif action == Order.Action.BUY_TO_COVER:\n",
    "            return \"BUY_TO_COVER\"\n",
    "        else:\n",
    "            raise Exception(f\"Unexpected action {action}\")\n",
    "\n",
    "    def onEnterOk(self, position):\n",
    "        order: Order = position.getEntryOrder()\n",
    "        execInfo: OrderExecutionInfo = order.getExecutionInfo()\n",
    "\n",
    "        self.info(f\"{self._action_to_stirng(order.getAction())} at {execInfo.getPrice()}\")\n",
    "\n",
    "    def onEnterCanceled(self, position:Position):\n",
    "        self.__position = None\n",
    "\n",
    "    def onExitOk(self, position:Position):\n",
    "        order: Order = position.getExitOrder()\n",
    "        execInfo: OrderExecutionInfo = order.getExecutionInfo()\n",
    "        self.info(f\"Close {self._action_to_stirng(order.getAction())} order at {execInfo.getPrice()}\")\n",
    "        self.__position = None\n",
    "\n",
    "    def onExitCanceled(self, position):\n",
    "        # If the exit was canceled, re-submit it.\n",
    "        self.__position.exitMarket()\n",
    "\n",
    "    def onBars(self, bars):\n",
    "        broker:Broker = self.getBroker()\n",
    "        equity = broker.getEquity()\n",
    "\n",
    "        bar: BasicBar = bars[self.__instrument]\n",
    "        \n",
    "        if self.__sma[-1] is None:\n",
    "            return\n",
    "        \n",
    "        \n",
    "        if bar.getPrice() > self.__sma[-1]:\n",
    "            if self.__position is None:\n",
    "                # Enter a buy market order for 10 shares. The order is good till canceled.\n",
    "                self.__position = self.enterLong(self.__instrument, 100000, True)\n",
    "            elif isinstance(self.__position, ShortPosition) and not self.__position.exitActive():\n",
    "                self.__position.exitMarket()\n",
    "        elif bar.getPrice() < self.__sma[-1]:\n",
    "            if self.__position is None:\n",
    "                # Enter a buy market order for 10 shares. The order is good till canceled.\n",
    "                self.__position = self.enterShort(self.__instrument, 100000, True)\n",
    "            elif isinstance(self.__position, LongPosition) and not self.__position.exitActive():\n",
    "                self.__position.exitMarket()\n"
   ]
  },
  {
   "cell_type": "code",
   "execution_count": 12,
   "metadata": {},
   "outputs": [
    {
     "name": "stderr",
     "output_type": "stream",
     "text": [
      "2023-01-23 00:00:00 strategy [INFO] BUY at 1.0864723920822144\n",
      "2023-02-07 00:00:00 strategy [INFO] Close SELL order at 1.0730764865875244\n",
      "2023-02-08 00:00:00 strategy [INFO] SELL_SHORT at 1.0729728937149048\n",
      "2023-03-03 00:00:00 strategy [INFO] Close BUY_TO_COVER order at 1.0599732398986816\n",
      "2023-03-06 00:00:00 strategy [INFO] SELL_SHORT at 1.0626201629638672\n",
      "2023-03-08 00:00:00 strategy [INFO] Close BUY_TO_COVER order at 1.05507493019104\n",
      "2023-03-09 00:00:00 strategy [INFO] SELL_SHORT at 1.0549525022506714\n",
      "2023-03-14 00:00:00 strategy [INFO] Close BUY_TO_COVER order at 1.0725010633468628\n",
      "2023-03-15 00:00:00 strategy [INFO] BUY at 1.0727657079696655\n",
      "2023-03-17 00:00:00 strategy [INFO] Close SELL order at 1.0614134073257446\n",
      "2023-03-20 00:00:00 strategy [INFO] SELL_SHORT at 1.0678855180740356\n",
      "2023-03-21 00:00:00 strategy [INFO] Close BUY_TO_COVER order at 1.071914792060852\n",
      "2023-03-22 00:00:00 strategy [INFO] BUY at 1.0774236917495728\n",
      "2023-05-03 00:00:00 strategy [INFO] Close SELL order at 1.1010911464691162\n",
      "2023-05-04 00:00:00 strategy [INFO] BUY at 1.1068925857543945\n",
      "2023-05-10 00:00:00 strategy [INFO] Close SELL order at 1.096467137336731\n",
      "2023-05-11 00:00:00 strategy [INFO] SELL_SHORT at 1.098406195640564\n",
      "2023-06-12 00:00:00 strategy [INFO] Close BUY_TO_COVER order at 1.0750954151153564\n",
      "2023-06-13 00:00:00 strategy [INFO] BUY at 1.0762988328933716\n",
      "2023-07-03 00:00:00 strategy [INFO] Close SELL order at 1.0907504558563232\n",
      "2023-07-04 00:00:00 strategy [INFO] BUY at 1.091309905052185\n",
      "2023-07-06 00:00:00 strategy [INFO] Close SELL order at 1.0856584310531616\n",
      "2023-07-07 00:00:00 strategy [INFO] SELL_SHORT at 1.0890636444091797\n",
      "2023-07-11 00:00:00 strategy [INFO] Close BUY_TO_COVER order at 1.100594401359558\n",
      "2023-07-12 00:00:00 strategy [INFO] BUY at 1.101406455039978\n",
      "2023-07-26 00:00:00 strategy [INFO] Close SELL order at 1.1050456762313843\n",
      "2023-07-27 00:00:00 strategy [INFO] SELL_SHORT at 1.1078368425369263\n",
      "2023-09-01 00:00:00 strategy [INFO] Close BUY_TO_COVER order at 1.0844104290008545\n",
      "2023-09-04 00:00:00 strategy [INFO] SELL_SHORT at 1.07758629322052\n",
      "2023-10-11 00:00:00 strategy [INFO] Close BUY_TO_COVER order at 1.0604791641235352\n",
      "2023-10-12 00:00:00 strategy [INFO] BUY at 1.0624282360076904\n",
      "2023-10-16 00:00:00 strategy [INFO] Close SELL order at 1.0521553754806519\n",
      "2023-10-17 00:00:00 strategy [INFO] SELL_SHORT at 1.0554312467575073\n",
      "2023-10-18 00:00:00 strategy [INFO] Close BUY_TO_COVER order at 1.057305932044983\n",
      "2023-10-19 00:00:00 strategy [INFO] BUY at 1.053851842880249\n",
      "2023-10-20 00:00:00 strategy [INFO] Close SELL order at 1.0586491823196411\n",
      "2023-10-23 00:00:00 strategy [INFO] BUY at 1.0589966773986816\n",
      "2023-10-27 00:00:00 strategy [INFO] Close SELL order at 1.0564459562301636\n",
      "2023-10-30 00:00:00 strategy [INFO] SELL_SHORT at 1.0562450885772705\n",
      "2023-11-01 00:00:00 strategy [INFO] Close BUY_TO_COVER order at 1.0579099655151367\n",
      "2023-11-02 00:00:00 strategy [INFO] BUY at 1.05870521068573\n",
      "2023-12-05 00:00:00 strategy [INFO] Close SELL order at 1.0837758779525757\n",
      "2023-12-06 00:00:00 strategy [INFO] SELL_SHORT at 1.0793657302856445\n",
      "2023-12-15 00:00:00 strategy [INFO] Close BUY_TO_COVER order at 1.0993602275848389\n",
      "2023-12-18 00:00:00 strategy [INFO] BUY at 1.0895264148712158\n"
     ]
    }
   ],
   "source": [
    "\n",
    "# Load the bar feed from the CSV file\n",
    "feed = quandlfeed.Feed()\n",
    "feed.addBarsFromCSV(\"orcl\", test_data_path)\n",
    "\n",
    "# Evaluate the strategy with the feed's bars.\n",
    "myStrategy = MyStrategy(feed, \"orcl\")\n",
    "myStrategy.run()"
   ]
  },
  {
   "cell_type": "code",
   "execution_count": 13,
   "metadata": {},
   "outputs": [
    {
     "data": {
      "text/plain": [
       "100000"
      ]
     },
     "execution_count": 13,
     "metadata": {},
     "output_type": "execute_result"
    }
   ],
   "source": [
    "myStrategy.getBroker().getShares(\"orcl\")"
   ]
  },
  {
   "cell_type": "code",
   "execution_count": 14,
   "metadata": {},
   "outputs": [
    {
     "data": {
      "text/plain": [
       "1006301.6891479492"
      ]
     },
     "execution_count": 14,
     "metadata": {},
     "output_type": "execute_result"
    }
   ],
   "source": [
    "myStrategy.getBroker().getEquity()"
   ]
  },
  {
   "cell_type": "code",
   "execution_count": 29,
   "metadata": {},
   "outputs": [
    {
     "data": {
      "text/html": [
       "<div>\n",
       "<style scoped>\n",
       "    .dataframe tbody tr th:only-of-type {\n",
       "        vertical-align: middle;\n",
       "    }\n",
       "\n",
       "    .dataframe tbody tr th {\n",
       "        vertical-align: top;\n",
       "    }\n",
       "\n",
       "    .dataframe thead th {\n",
       "        text-align: right;\n",
       "    }\n",
       "</style>\n",
       "<table border=\"1\" class=\"dataframe\">\n",
       "  <thead>\n",
       "    <tr style=\"text-align: right;\">\n",
       "      <th></th>\n",
       "      <th>Date</th>\n",
       "      <th>Open</th>\n",
       "      <th>High</th>\n",
       "      <th>Low</th>\n",
       "      <th>Close</th>\n",
       "      <th>Volume</th>\n",
       "      <th>Dividends</th>\n",
       "      <th>Stock Splits</th>\n",
       "    </tr>\n",
       "  </thead>\n",
       "  <tbody>\n",
       "  </tbody>\n",
       "</table>\n",
       "</div>"
      ],
      "text/plain": [
       "Empty DataFrame\n",
       "Columns: [Date, Open, High, Low, Close, Volume, Dividends, Stock Splits]\n",
       "Index: []"
      ]
     },
     "execution_count": 29,
     "metadata": {},
     "output_type": "execute_result"
    }
   ],
   "source": [
    "data_df[data_df[\"High\"] < data_df[\"Low\"]]"
   ]
  },
  {
   "cell_type": "markdown",
   "metadata": {},
   "source": [
    "# Define trading simulator"
   ]
  },
  {
   "cell_type": "code",
   "execution_count": null,
   "metadata": {},
   "outputs": [],
   "source": [
    "from src.simulation.abs_trading_simulatior import absTradingSimulatior,StrategyId,SimulationConfig,SimulationLog\n",
    "from src.simulation.config"
   ]
  },
  {
   "cell_type": "code",
   "execution_count": null,
   "metadata": {},
   "outputs": [],
   "source": [
    "class TradingSimulatior(absTradingSimulatior):\n",
    "    def strategy_id(self)->StrategyId:\n",
    "        return StrategyId(\"Example Strategy\", \"v1\")\n",
    "    \n",
    "    def _run(self, run_config: SimulationConfig)->SimulationLog:\n",
    "        # Load the bar feed from the CSV file\n",
    "        feed = quandlfeed.Feed()\n",
    "        feed.addBarsFromCSV(\"EURUSD\", test_data_path)\n",
    "\n",
    "        # Evaluate the strategy with the feed's bars.\n",
    "        myStrategy = MyStrategy(feed, \"EURUSD\")\n",
    "        myStrategy.run()"
   ]
  },
  {
   "cell_type": "markdown",
   "metadata": {},
   "source": [
    "# Optimizing"
   ]
  },
  {
   "cell_type": "code",
   "execution_count": null,
   "metadata": {},
   "outputs": [],
   "source": [
    "from src.optimization_analyzer.optimization_analyzer import OptimizationAnalyzer, OptimizationConfig"
   ]
  },
  {
   "cell_type": "code",
   "execution_count": null,
   "metadata": {},
   "outputs": [],
   "source": [
    "simulation_report_factory: absTradingSimulatior\n",
    "\n",
    "opt_config = OptimizationConfig()"
   ]
  },
  {
   "cell_type": "code",
   "execution_count": null,
   "metadata": {},
   "outputs": [],
   "source": [
    "opt_analyzer = OptimizationAnalyzer()\n",
    "opt_analyzer.analis_optimization_flow()"
   ]
  },
  {
   "cell_type": "markdown",
   "metadata": {},
   "source": []
  }
 ],
 "metadata": {
  "kernelspec": {
   "display_name": "Python 3",
   "language": "python",
   "name": "python3"
  },
  "language_info": {
   "codemirror_mode": {
    "name": "ipython",
    "version": 3
   },
   "file_extension": ".py",
   "mimetype": "text/x-python",
   "name": "python",
   "nbconvert_exporter": "python",
   "pygments_lexer": "ipython3",
   "version": "3.11.2"
  }
 },
 "nbformat": 4,
 "nbformat_minor": 2
}
